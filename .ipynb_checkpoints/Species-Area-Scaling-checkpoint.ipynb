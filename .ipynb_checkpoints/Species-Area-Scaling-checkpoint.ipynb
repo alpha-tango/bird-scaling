{
 "cells": [
  {
   "cell_type": "code",
   "execution_count": null,
   "id": "edf5be9d-a309-4f97-a60c-8d88b5c8a907",
   "metadata": {},
   "outputs": [],
   "source": [
    "import duckdb\n",
    "import matplotlib.pyplot as plt\n",
    "import math\n",
    "import numpy as np\n",
    "import pandas as pd\n",
    "from pyproj import Geod\n",
    "from shapely import geometry, box\n",
    "import statsmodels.api as sm"
   ]
  },
  {
   "cell_type": "markdown",
   "id": "6982f924-7ffb-4ceb-bbdf-b6245cd63510",
   "metadata": {
    "jp-MarkdownHeadingCollapsed": true
   },
   "source": [
    "### Settings"
   ]
  },
  {
   "cell_type": "code",
   "execution_count": 158,
   "id": "37dc678e-13eb-465c-aac6-b4cdae4ed031",
   "metadata": {},
   "outputs": [],
   "source": [
    "# which projection to use\n",
    "# https://en.wikipedia.org/wiki/World_Geodetic_System\n",
    "geod=Geod(ellps='WGS84')  "
   ]
  },
  {
   "cell_type": "markdown",
   "id": "d4067a71-8926-42db-b055-c4800c84ad6c",
   "metadata": {
    "jp-MarkdownHeadingCollapsed": true
   },
   "source": [
    "### Functions"
   ]
  },
  {
   "cell_type": "code",
   "execution_count": 160,
   "id": "d92e8b5c-4778-49df-bee3-9b32635dbabe",
   "metadata": {},
   "outputs": [],
   "source": [
    "def get_lat_long_windows(start_lat, start_long, n_boxes=12):\n",
    "    \"\"\" \n",
    "    Generate & return a series of boxes of increasing size,\n",
    "    approximately centered at the given latitude and longitude. \n",
    "    np.logspace generates a range of numbers that are evenly spaced in\n",
    "    the given base -- useful here as we think we're working with a power law\n",
    "    distribution.\n",
    "    \"\"\"\n",
    "    boxes = []\n",
    "    for x in np.logspace(-1, 5, num=n_boxes, base=10):\n",
    "        boxes.append(\n",
    "            {\"min_lat\": start_lat * x // 1 / x,\n",
    "             \"max_lat\": (start_lat * x // 1 + 1) / x,\n",
    "             \"min_long\": start_long * x // 1 / x,\n",
    "             \"max_long\": (start_long * x // 1 + 1) / x\n",
    "            })\n",
    "    return boxes\n",
    "\n",
    "def area_km(b):\n",
    "    \"\"\" return the area on earth of the given lat/long-defined polygon.\n",
    "    The projection is defined above in settings.\n",
    "    geod.geometry_area_perimeter returns a tuple of (area, perimeter)\n",
    "    where area is in m^2. We convert to km^2.\n",
    "    \"\"\"\n",
    "    return geod.geometry_area_perimeter(b)[0]/(1000*1000)\n",
    "\n",
    "def multiwindow_species_count_select(windows):\n",
    "    \"\"\"\n",
    "    For a set of windows as generated with with `get_lat_long_windows`,\n",
    "    format a big select statement that selects the count of species\n",
    "    within each area. \n",
    "    Doesn't run the statement, just generates the SQL needed for it.\n",
    "    \"\"\"\n",
    "    selects = []\n",
    "    for w in windows:\n",
    "        selects.append(f\"\"\"\n",
    "            (SELECT\n",
    "                {w[\"min_lat\"]} AS min_lat,\n",
    "                {w[\"max_lat\"]} AS max_lat,\n",
    "                {w[\"min_long\"]} AS min_long,\n",
    "                {w[\"max_long\"]} AS max_long,\n",
    "                count(distinct scientific_name) as species_count,\n",
    "            FROM 'data/ebird_*.parquet'\n",
    "            WHERE latitude >= {w[\"min_lat\"]}\n",
    "            AND latitude < {w[\"max_lat\"]}\n",
    "            AND longitude >= {w[\"min_long\"]}\n",
    "            AND longitude < {w[\"max_long\"]}\n",
    "            GROUP BY 1,2,3,4)\n",
    "        \"\"\")\n",
    "\n",
    "    return \"\\n UNION \\n\".join(selects)\n",
    "\n",
    "def df_with_area(df):\n",
    "    \"\"\"\n",
    "    Add area calculations to the dataframe.\n",
    "    \"\"\"\n",
    "    df['shapely_box'] = box(df['max_long'], df['max_lat'], df['min_long'], df['min_lat'])\n",
    "    df['area_km'] = df['shapely_box'].map(area)\n",
    "    return df\n",
    "\n",
    "def df_with_log10(df):\n",
    "    \"\"\"\n",
    "    Add log10 columns to the dataframe.\n",
    "    \"\"\"\n",
    "    df['log10_area_km'] = np.log10(df['area_km'])\n",
    "    df['log10_species_count'] = np.log10(df['species_count'])\n",
    "    return df\n",
    "\n",
    "    "
   ]
  },
  {
   "cell_type": "markdown",
   "id": "27116d62-cf06-460b-a750-0bc15f735800",
   "metadata": {
    "jp-MarkdownHeadingCollapsed": true
   },
   "source": [
    "### Burlington, VT-centered"
   ]
  },
  {
   "cell_type": "code",
   "execution_count": 161,
   "id": "7131a11d-b7c8-4ea7-95e6-cc81fc5e466f",
   "metadata": {},
   "outputs": [
    {
     "data": {
      "application/vnd.jupyter.widget-view+json": {
       "model_id": "c4bbbbf371ac46d487102a737620a330",
       "version_major": 2,
       "version_minor": 0
      },
      "text/plain": [
       "FloatProgress(value=0.0, layout=Layout(width='auto'), style=ProgressStyle(bar_color='black'))"
      ]
     },
     "metadata": {},
     "output_type": "display_data"
    },
    {
     "data": {
      "text/html": [
       "<div>\n",
       "<style scoped>\n",
       "    .dataframe tbody tr th:only-of-type {\n",
       "        vertical-align: middle;\n",
       "    }\n",
       "\n",
       "    .dataframe tbody tr th {\n",
       "        vertical-align: top;\n",
       "    }\n",
       "\n",
       "    .dataframe thead th {\n",
       "        text-align: right;\n",
       "    }\n",
       "</style>\n",
       "<table border=\"1\" class=\"dataframe\">\n",
       "  <thead>\n",
       "    <tr style=\"text-align: right;\">\n",
       "      <th></th>\n",
       "      <th>min_lat</th>\n",
       "      <th>max_lat</th>\n",
       "      <th>min_long</th>\n",
       "      <th>max_long</th>\n",
       "      <th>species_count</th>\n",
       "    </tr>\n",
       "  </thead>\n",
       "  <tbody>\n",
       "    <tr>\n",
       "      <th>3</th>\n",
       "      <td>40.000000</td>\n",
       "      <td>50.000000</td>\n",
       "      <td>-80.000000</td>\n",
       "      <td>-70.000000</td>\n",
       "      <td>777</td>\n",
       "    </tr>\n",
       "    <tr>\n",
       "      <th>1</th>\n",
       "      <td>42.720538</td>\n",
       "      <td>45.568574</td>\n",
       "      <td>-74.048933</td>\n",
       "      <td>-71.200897</td>\n",
       "      <td>471</td>\n",
       "    </tr>\n",
       "    <tr>\n",
       "      <th>2</th>\n",
       "      <td>43.801065</td>\n",
       "      <td>44.612196</td>\n",
       "      <td>-73.812906</td>\n",
       "      <td>-73.001775</td>\n",
       "      <td>385</td>\n",
       "    </tr>\n",
       "    <tr>\n",
       "      <th>6</th>\n",
       "      <td>44.354490</td>\n",
       "      <td>44.585503</td>\n",
       "      <td>-73.231111</td>\n",
       "      <td>-73.000099</td>\n",
       "      <td>298</td>\n",
       "    </tr>\n",
       "    <tr>\n",
       "      <th>5</th>\n",
       "      <td>44.410493</td>\n",
       "      <td>44.476286</td>\n",
       "      <td>-73.227968</td>\n",
       "      <td>-73.162175</td>\n",
       "      <td>228</td>\n",
       "    </tr>\n",
       "    <tr>\n",
       "      <th>4</th>\n",
       "      <td>44.446949</td>\n",
       "      <td>44.465687</td>\n",
       "      <td>-73.228785</td>\n",
       "      <td>-73.210047</td>\n",
       "      <td>156</td>\n",
       "    </tr>\n",
       "    <tr>\n",
       "      <th>0</th>\n",
       "      <td>44.460041</td>\n",
       "      <td>44.465378</td>\n",
       "      <td>-73.214177</td>\n",
       "      <td>-73.208840</td>\n",
       "      <td>50</td>\n",
       "    </tr>\n",
       "  </tbody>\n",
       "</table>\n",
       "</div>"
      ],
      "text/plain": [
       "     min_lat    max_lat   min_long   max_long  species_count\n",
       "3  40.000000  50.000000 -80.000000 -70.000000            777\n",
       "1  42.720538  45.568574 -74.048933 -71.200897            471\n",
       "2  43.801065  44.612196 -73.812906 -73.001775            385\n",
       "6  44.354490  44.585503 -73.231111 -73.000099            298\n",
       "5  44.410493  44.476286 -73.227968 -73.162175            228\n",
       "4  44.446949  44.465687 -73.228785 -73.210047            156\n",
       "0  44.460041  44.465378 -73.214177 -73.208840             50"
      ]
     },
     "execution_count": 161,
     "metadata": {},
     "output_type": "execute_result"
    }
   ],
   "source": [
    "# Run query and convert to dataframe\n",
    "input_lat = 44.461917\n",
    "input_long = -73.212406\n",
    "windows = get_lat_long_windows(input_lat, input_long)\n",
    "big_select = multiwindow_species_count_select(windows)\n",
    "vt_df = duckdb.sql(big_select).df()\n",
    "vt_df.sort_values(by=\"min_lat\")"
   ]
  },
  {
   "cell_type": "code",
   "execution_count": 162,
   "id": "e63087a4-2338-48e3-945d-cb9d1f20ac7c",
   "metadata": {},
   "outputs": [],
   "source": [
    "# Add necessary columns\n",
    "vt_df = df_with_area(vt_df)\n",
    "vt_df = df_with_log10(vt_df)"
   ]
  },
  {
   "cell_type": "code",
   "execution_count": 204,
   "id": "82a4df7e-9463-407d-b11f-cd6049033a71",
   "metadata": {},
   "outputs": [
    {
     "data": {
      "text/plain": [
       "Text(0.5, 0.98, 'Starting in Burlington, VT')"
      ]
     },
     "execution_count": 204,
     "metadata": {},
     "output_type": "execute_result"
    },
    {
     "data": {
      "image/png": "[encoded data removed]",
      "text/plain": [
       "<Figure size 640x480 with 1 Axes>"
      ]
     },
     "metadata": {},
     "output_type": "display_data"
    }
   ],
   "source": [
    "# Plot\n",
    "fig, ax = plt.subplots()\n",
    "ax.scatter(vt_df['log10_area_km'], vt_df['log10_species_count'])\n",
    "ax.set_xlabel(\"log10 Area (km^2)\")\n",
    "ax.set_ylabel(\"log10 Species Count\")\n",
    "ax.set_ylim(0, 3)\n",
    "ax.set_xlim(-2, 7)\n",
    "fig.suptitle(\"Starting in Burlington, VT\")"
   ]
  },
  {
   "cell_type": "markdown",
   "id": "1189d954-332c-4ca0-b7df-1fef9c94f35e",
   "metadata": {
    "jp-MarkdownHeadingCollapsed": true
   },
   "source": [
    "### El Paso, Texas - centered"
   ]
  },
  {
   "cell_type": "code",
   "execution_count": 166,
   "id": "2fc38d84-ef9f-4113-aaab-6fd0f195280c",
   "metadata": {},
   "outputs": [
    {
     "data": {
      "application/vnd.jupyter.widget-view+json": {
       "model_id": "97ef2fa0896644789077fda3f155c5f4",
       "version_major": 2,
       "version_minor": 0
      },
      "text/plain": [
       "FloatProgress(value=0.0, layout=Layout(width='auto'), style=ProgressStyle(bar_color='black'))"
      ]
     },
     "metadata": {},
     "output_type": "display_data"
    },
    {
     "data": {
      "text/html": [
       "<div>\n",
       "<style scoped>\n",
       "    .dataframe tbody tr th:only-of-type {\n",
       "        vertical-align: middle;\n",
       "    }\n",
       "\n",
       "    .dataframe tbody tr th {\n",
       "        vertical-align: top;\n",
       "    }\n",
       "\n",
       "    .dataframe thead th {\n",
       "        text-align: right;\n",
       "    }\n",
       "</style>\n",
       "<table border=\"1\" class=\"dataframe\">\n",
       "  <thead>\n",
       "    <tr style=\"text-align: right;\">\n",
       "      <th></th>\n",
       "      <th>min_lat</th>\n",
       "      <th>max_lat</th>\n",
       "      <th>min_long</th>\n",
       "      <th>max_long</th>\n",
       "      <th>species_count</th>\n",
       "    </tr>\n",
       "  </thead>\n",
       "  <tbody>\n",
       "    <tr>\n",
       "      <th>7</th>\n",
       "      <td>30.000000</td>\n",
       "      <td>40.000000</td>\n",
       "      <td>-110.000000</td>\n",
       "      <td>-100.000000</td>\n",
       "      <td>847</td>\n",
       "    </tr>\n",
       "    <tr>\n",
       "      <th>5</th>\n",
       "      <td>31.328395</td>\n",
       "      <td>34.176430</td>\n",
       "      <td>-108.225363</td>\n",
       "      <td>-105.377327</td>\n",
       "      <td>528</td>\n",
       "    </tr>\n",
       "    <tr>\n",
       "      <th>3</th>\n",
       "      <td>31.634102</td>\n",
       "      <td>32.445233</td>\n",
       "      <td>-107.069270</td>\n",
       "      <td>-106.258139</td>\n",
       "      <td>442</td>\n",
       "    </tr>\n",
       "    <tr>\n",
       "      <th>6</th>\n",
       "      <td>31.648777</td>\n",
       "      <td>31.879790</td>\n",
       "      <td>-106.496979</td>\n",
       "      <td>-106.265966</td>\n",
       "      <td>312</td>\n",
       "    </tr>\n",
       "    <tr>\n",
       "      <th>1</th>\n",
       "      <td>31.778175</td>\n",
       "      <td>31.843968</td>\n",
       "      <td>-106.519389</td>\n",
       "      <td>-106.453596</td>\n",
       "      <td>200</td>\n",
       "    </tr>\n",
       "    <tr>\n",
       "      <th>0</th>\n",
       "      <td>31.779943</td>\n",
       "      <td>31.798682</td>\n",
       "      <td>-106.470306</td>\n",
       "      <td>-106.451568</td>\n",
       "      <td>146</td>\n",
       "    </tr>\n",
       "    <tr>\n",
       "      <th>2</th>\n",
       "      <td>31.785381</td>\n",
       "      <td>31.790717</td>\n",
       "      <td>-106.461813</td>\n",
       "      <td>-106.456476</td>\n",
       "      <td>146</td>\n",
       "    </tr>\n",
       "    <tr>\n",
       "      <th>4</th>\n",
       "      <td>31.787420</td>\n",
       "      <td>31.788940</td>\n",
       "      <td>-106.457612</td>\n",
       "      <td>-106.456092</td>\n",
       "      <td>14</td>\n",
       "    </tr>\n",
       "  </tbody>\n",
       "</table>\n",
       "</div>"
      ],
      "text/plain": [
       "     min_lat    max_lat    min_long    max_long  species_count\n",
       "7  30.000000  40.000000 -110.000000 -100.000000            847\n",
       "5  31.328395  34.176430 -108.225363 -105.377327            528\n",
       "3  31.634102  32.445233 -107.069270 -106.258139            442\n",
       "6  31.648777  31.879790 -106.496979 -106.265966            312\n",
       "1  31.778175  31.843968 -106.519389 -106.453596            200\n",
       "0  31.779943  31.798682 -106.470306 -106.451568            146\n",
       "2  31.785381  31.790717 -106.461813 -106.456476            146\n",
       "4  31.787420  31.788940 -106.457612 -106.456092             14"
      ]
     },
     "execution_count": 166,
     "metadata": {},
     "output_type": "execute_result"
    }
   ],
   "source": [
    "# Run query and convert to dataframe\n",
    "\n",
    "input_lat = 31.78886\n",
    "input_long = -106.4572\n",
    "windows = get_lat_long_windows(input_lat, input_long)\n",
    "big_select = multiwindow_species_count_select(windows)\n",
    "tx_df = duckdb.sql(big_select).df()\n",
    "tx_df.sort_values(by=\"min_lat\")"
   ]
  },
  {
   "cell_type": "code",
   "execution_count": 167,
   "id": "7b327cea-c258-4a36-944b-ac515016fe4e",
   "metadata": {},
   "outputs": [],
   "source": [
    "# Add necessary columns\n",
    "tx_df = df_with_area(tx_df)\n",
    "tx_df = df_with_log10(tx_df)"
   ]
  },
  {
   "cell_type": "code",
   "execution_count": 205,
   "id": "024a4709-28cb-4f4e-8d23-c2d48d421173",
   "metadata": {},
   "outputs": [
    {
     "data": {
      "text/plain": [
       "Text(0.5, 0.98, 'Starting in El Paso, Texas')"
      ]
     },
     "execution_count": 205,
     "metadata": {},
     "output_type": "execute_result"
    },
    {
     "data": {
      "image/png": "[encoded data removed]",
      "text/plain": [
       "<Figure size 640x480 with 1 Axes>"
      ]
     },
     "metadata": {},
     "output_type": "display_data"
    }
   ],
   "source": [
    "# Plot\n",
    "fig, ax = plt.subplots()\n",
    "ax.scatter(tx_df['log10_area_km'], tx_df['log10_species_count'])\n",
    "ax.set_xlabel(\"log10 Area (km^2)\")\n",
    "ax.set_ylabel(\"log10 Species Count\")\n",
    "ax.set_ylim(0, 3)\n",
    "ax.set_xlim(-2, 7)\n",
    "fig.suptitle(\"Starting in El Paso, Texas\")"
   ]
  },
  {
   "cell_type": "markdown",
   "id": "ecbb6160-282a-42a6-970d-117989914060",
   "metadata": {
    "jp-MarkdownHeadingCollapsed": true
   },
   "source": [
    "### Starting in Boise, Idaho"
   ]
  },
  {
   "cell_type": "code",
   "execution_count": 169,
   "id": "2e524ee3-08cc-42df-aee1-b3b28a9132b4",
   "metadata": {},
   "outputs": [
    {
     "data": {
      "application/vnd.jupyter.widget-view+json": {
       "model_id": "7c12fa8891f94b6fa892cb86a1b48a66",
       "version_major": 2,
       "version_minor": 0
      },
      "text/plain": [
       "FloatProgress(value=0.0, layout=Layout(width='auto'), style=ProgressStyle(bar_color='black'))"
      ]
     },
     "metadata": {},
     "output_type": "display_data"
    },
    {
     "data": {
      "text/html": [
       "<div>\n",
       "<style scoped>\n",
       "    .dataframe tbody tr th:only-of-type {\n",
       "        vertical-align: middle;\n",
       "    }\n",
       "\n",
       "    .dataframe tbody tr th {\n",
       "        vertical-align: top;\n",
       "    }\n",
       "\n",
       "    .dataframe thead th {\n",
       "        text-align: right;\n",
       "    }\n",
       "</style>\n",
       "<table border=\"1\" class=\"dataframe\">\n",
       "  <thead>\n",
       "    <tr style=\"text-align: right;\">\n",
       "      <th></th>\n",
       "      <th>min_lat</th>\n",
       "      <th>max_lat</th>\n",
       "      <th>min_long</th>\n",
       "      <th>max_long</th>\n",
       "      <th>species_count</th>\n",
       "    </tr>\n",
       "  </thead>\n",
       "  <tbody>\n",
       "    <tr>\n",
       "      <th>3</th>\n",
       "      <td>40.000000</td>\n",
       "      <td>50.000000</td>\n",
       "      <td>-120.000000</td>\n",
       "      <td>-110.000000</td>\n",
       "      <td>669</td>\n",
       "    </tr>\n",
       "    <tr>\n",
       "      <th>0</th>\n",
       "      <td>42.720538</td>\n",
       "      <td>45.568574</td>\n",
       "      <td>-116.769471</td>\n",
       "      <td>-113.921435</td>\n",
       "      <td>422</td>\n",
       "    </tr>\n",
       "    <tr>\n",
       "      <th>6</th>\n",
       "      <td>42.989934</td>\n",
       "      <td>43.801065</td>\n",
       "      <td>-116.802840</td>\n",
       "      <td>-115.991709</td>\n",
       "      <td>387</td>\n",
       "    </tr>\n",
       "    <tr>\n",
       "      <th>4</th>\n",
       "      <td>43.430438</td>\n",
       "      <td>43.661451</td>\n",
       "      <td>-116.430537</td>\n",
       "      <td>-116.199524</td>\n",
       "      <td>263</td>\n",
       "    </tr>\n",
       "    <tr>\n",
       "      <th>2</th>\n",
       "      <td>43.555179</td>\n",
       "      <td>43.620973</td>\n",
       "      <td>-116.256801</td>\n",
       "      <td>-116.191007</td>\n",
       "      <td>186</td>\n",
       "    </tr>\n",
       "    <tr>\n",
       "      <th>5</th>\n",
       "      <td>43.603731</td>\n",
       "      <td>43.622470</td>\n",
       "      <td>-116.232895</td>\n",
       "      <td>-116.214157</td>\n",
       "      <td>161</td>\n",
       "    </tr>\n",
       "    <tr>\n",
       "      <th>1</th>\n",
       "      <td>43.606169</td>\n",
       "      <td>43.611506</td>\n",
       "      <td>-116.222636</td>\n",
       "      <td>-116.217299</td>\n",
       "      <td>67</td>\n",
       "    </tr>\n",
       "  </tbody>\n",
       "</table>\n",
       "</div>"
      ],
      "text/plain": [
       "     min_lat    max_lat    min_long    max_long  species_count\n",
       "3  40.000000  50.000000 -120.000000 -110.000000            669\n",
       "0  42.720538  45.568574 -116.769471 -113.921435            422\n",
       "6  42.989934  43.801065 -116.802840 -115.991709            387\n",
       "4  43.430438  43.661451 -116.430537 -116.199524            263\n",
       "2  43.555179  43.620973 -116.256801 -116.191007            186\n",
       "5  43.603731  43.622470 -116.232895 -116.214157            161\n",
       "1  43.606169  43.611506 -116.222636 -116.217299             67"
      ]
     },
     "execution_count": 169,
     "metadata": {},
     "output_type": "execute_result"
    }
   ],
   "source": [
    "# Run query and convert to dataframe\n",
    "\n",
    "input_lat = 43.60948\n",
    "input_long = -116.2176\n",
    "windows = get_lat_long_windows(input_lat, input_long)\n",
    "big_select = multiwindow_species_count_select(windows)\n",
    "id_df = duckdb.sql(big_select).df()\n",
    "id_df.sort_values(by=\"min_lat\")"
   ]
  },
  {
   "cell_type": "code",
   "execution_count": 171,
   "id": "34bb54e9-7eac-4314-acf2-68ccc4d577c3",
   "metadata": {},
   "outputs": [],
   "source": [
    "# Add necessary columns\n",
    "id_df = df_with_area(id_df)\n",
    "id_df = df_with_log10(id_df)"
   ]
  },
  {
   "cell_type": "code",
   "execution_count": 206,
   "id": "6e256fc6-2182-4cea-8891-64aec4f7c80f",
   "metadata": {},
   "outputs": [
    {
     "data": {
      "text/plain": [
       "Text(0.5, 0.98, 'Starting in Boise, Idaho')"
      ]
     },
     "execution_count": 206,
     "metadata": {},
     "output_type": "execute_result"
    },
    {
     "data": {
      "image/png": "[encoded data removed]",
      "text/plain": [
       "<Figure size 640x480 with 1 Axes>"
      ]
     },
     "metadata": {},
     "output_type": "display_data"
    }
   ],
   "source": [
    "# Plot\n",
    "fig, ax = plt.subplots()\n",
    "ax.scatter(id_df['log10_area_km'], id_df['log10_species_count'])\n",
    "ax.set_xlabel(\"log10 Area (km^2)\")\n",
    "ax.set_ylabel(\"log10 Species Count\")\n",
    "ax.set_ylim(0, 3)\n",
    "ax.set_xlim(-2, 7)\n",
    "fig.suptitle(\"Starting in Boise, Idaho\")"
   ]
  },
  {
   "cell_type": "markdown",
   "id": "9d6bf9cc-b689-42b8-a7d8-6767572ace94",
   "metadata": {
    "jp-MarkdownHeadingCollapsed": true
   },
   "source": [
    "### Starting in St. Louis, Missouri"
   ]
  },
  {
   "cell_type": "code",
   "execution_count": 192,
   "id": "a8048e59-f63a-48c7-9ef9-221db109a3fe",
   "metadata": {},
   "outputs": [
    {
     "data": {
      "application/vnd.jupyter.widget-view+json": {
       "model_id": "d9588057dce24215a1104504b0825259",
       "version_major": 2,
       "version_minor": 0
      },
      "text/plain": [
       "FloatProgress(value=0.0, layout=Layout(width='auto'), style=ProgressStyle(bar_color='black'))"
      ]
     },
     "metadata": {},
     "output_type": "display_data"
    },
    {
     "data": {
      "text/html": [
       "<div>\n",
       "<style scoped>\n",
       "    .dataframe tbody tr th:only-of-type {\n",
       "        vertical-align: middle;\n",
       "    }\n",
       "\n",
       "    .dataframe tbody tr th {\n",
       "        vertical-align: top;\n",
       "    }\n",
       "\n",
       "    .dataframe thead th {\n",
       "        text-align: right;\n",
       "    }\n",
       "</style>\n",
       "<table border=\"1\" class=\"dataframe\">\n",
       "  <thead>\n",
       "    <tr style=\"text-align: right;\">\n",
       "      <th></th>\n",
       "      <th>min_lat</th>\n",
       "      <th>max_lat</th>\n",
       "      <th>min_long</th>\n",
       "      <th>max_long</th>\n",
       "      <th>species_count</th>\n",
       "    </tr>\n",
       "  </thead>\n",
       "  <tbody>\n",
       "    <tr>\n",
       "      <th>5</th>\n",
       "      <td>30.000000</td>\n",
       "      <td>40.000000</td>\n",
       "      <td>-100.000000</td>\n",
       "      <td>-90.000000</td>\n",
       "      <td>763</td>\n",
       "    </tr>\n",
       "    <tr>\n",
       "      <th>3</th>\n",
       "      <td>37.024466</td>\n",
       "      <td>39.872502</td>\n",
       "      <td>-91.137148</td>\n",
       "      <td>-88.289112</td>\n",
       "      <td>464</td>\n",
       "    </tr>\n",
       "    <tr>\n",
       "      <th>2</th>\n",
       "      <td>38.123149</td>\n",
       "      <td>38.934280</td>\n",
       "      <td>-90.846653</td>\n",
       "      <td>-90.035522</td>\n",
       "      <td>424</td>\n",
       "    </tr>\n",
       "    <tr>\n",
       "      <th>7</th>\n",
       "      <td>38.554887</td>\n",
       "      <td>38.620680</td>\n",
       "      <td>-90.268438</td>\n",
       "      <td>-90.202645</td>\n",
       "      <td>228</td>\n",
       "    </tr>\n",
       "    <tr>\n",
       "      <th>6</th>\n",
       "      <td>38.579166</td>\n",
       "      <td>38.810179</td>\n",
       "      <td>-90.326071</td>\n",
       "      <td>-90.095058</td>\n",
       "      <td>294</td>\n",
       "    </tr>\n",
       "    <tr>\n",
       "      <th>1</th>\n",
       "      <td>38.600639</td>\n",
       "      <td>38.619377</td>\n",
       "      <td>-90.261785</td>\n",
       "      <td>-90.243047</td>\n",
       "      <td>198</td>\n",
       "    </tr>\n",
       "    <tr>\n",
       "      <th>0</th>\n",
       "      <td>38.605682</td>\n",
       "      <td>38.611019</td>\n",
       "      <td>-90.264931</td>\n",
       "      <td>-90.259594</td>\n",
       "      <td>88</td>\n",
       "    </tr>\n",
       "    <tr>\n",
       "      <th>4</th>\n",
       "      <td>38.608781</td>\n",
       "      <td>38.610301</td>\n",
       "      <td>-90.261440</td>\n",
       "      <td>-90.259920</td>\n",
       "      <td>46</td>\n",
       "    </tr>\n",
       "  </tbody>\n",
       "</table>\n",
       "</div>"
      ],
      "text/plain": [
       "     min_lat    max_lat    min_long   max_long  species_count\n",
       "5  30.000000  40.000000 -100.000000 -90.000000            763\n",
       "3  37.024466  39.872502  -91.137148 -88.289112            464\n",
       "2  38.123149  38.934280  -90.846653 -90.035522            424\n",
       "7  38.554887  38.620680  -90.268438 -90.202645            228\n",
       "6  38.579166  38.810179  -90.326071 -90.095058            294\n",
       "1  38.600639  38.619377  -90.261785 -90.243047            198\n",
       "0  38.605682  38.611019  -90.264931 -90.259594             88\n",
       "4  38.608781  38.610301  -90.261440 -90.259920             46"
      ]
     },
     "execution_count": 192,
     "metadata": {},
     "output_type": "execute_result"
    }
   ],
   "source": [
    " # Run query and convert to dataframe\n",
    "\n",
    "input_lat = 38.60988\n",
    "input_long = -90.26047\n",
    "windows = get_lat_long_windows(input_lat, input_long)\n",
    "big_select = multiwindow_species_count_select(windows)\n",
    "mo_df = duckdb.sql(big_select).df()\n",
    "mo_df.sort_values(by=\"min_lat\")"
   ]
  },
  {
   "cell_type": "code",
   "execution_count": 193,
   "id": "6a346285-dce7-469a-8207-781f7eee9c93",
   "metadata": {},
   "outputs": [],
   "source": [
    "# Add necessary columns\n",
    "mo_df = df_with_area(mo_df)\n",
    "mo_df = df_with_log10(mo_df)"
   ]
  },
  {
   "cell_type": "code",
   "execution_count": 207,
   "id": "fc0e267f-2128-4d3d-889c-2af963983eca",
   "metadata": {},
   "outputs": [
    {
     "data": {
      "text/plain": [
       "Text(0.5, 0.98, 'Starting in St. Louis, Missouri')"
      ]
     },
     "execution_count": 207,
     "metadata": {},
     "output_type": "execute_result"
    },
    {
     "data": {
      "image/png": "[encoded data removed]",
      "text/plain": [
       "<Figure size 640x480 with 1 Axes>"
      ]
     },
     "metadata": {},
     "output_type": "display_data"
    }
   ],
   "source": [
    "# Plot\n",
    "fig, ax = plt.subplots()\n",
    "ax.scatter(mo_df['log10_area_km'], mo_df['log10_species_count'])\n",
    "ax.set_xlabel(\"log10 Area (km^2)\")\n",
    "ax.set_ylabel(\"log10 Species Count\")\n",
    "ax.set_ylim(0, 3)\n",
    "ax.set_xlim(-2, 7)\n",
    "fig.suptitle(\"Starting in St. Louis, Missouri\")"
   ]
  },
  {
   "cell_type": "markdown",
   "id": "3e0b69a0-812c-455c-b75b-5c9fd52700d5",
   "metadata": {},
   "source": [
    "### All areas grouped"
   ]
  },
  {
   "cell_type": "code",
   "execution_count": 203,
   "id": "b8f8d286-3bf0-4357-bb3f-f0729ce15441",
   "metadata": {},
   "outputs": [
    {
     "data": {
      "text/plain": [
       "<matplotlib.legend.Legend at 0x28d564220>"
      ]
     },
     "execution_count": 203,
     "metadata": {},
     "output_type": "execute_result"
    },
    {
     "data": {
      "image/png": "[encoded data removed]",
      "text/plain": [
       "<Figure size 640x480 with 1 Axes>"
      ]
     },
     "metadata": {},
     "output_type": "display_data"
    }
   ],
   "source": [
    "# Plot\n",
    "fig, ax = plt.subplots()\n",
    "ax.scatter(id_df['log10_area_km'], id_df['log10_species_count'], label=\"Boise, Idaho\")\n",
    "ax.scatter(tx_df['log10_area_km'], tx_df['log10_species_count'], label=\"El Paso, Texas\")\n",
    "ax.scatter(vt_df['log10_area_km'], vt_df['log10_species_count'], label=\"Burlington, Vermont\")\n",
    "ax.scatter(mo_df['log10_area_km'], mo_df['log10_species_count'], label=\"St. Louis, Missouri\")\n",
    "ax.set_xlabel(\"log10 Area (km^2)\")\n",
    "ax.set_ylabel(\"log10 Species Count\")\n",
    "ax.set_ylim(0, 3)\n",
    "ax.set_xlim(-2, 7)\n",
    "# fig.legend(loc='center right')\n",
    "fig.legend(bbox_to_anchor=(0.8, 0.4))"
   ]
  },
  {
   "cell_type": "code",
   "execution_count": 202,
   "id": "a60761be-439d-4692-af54-709af9494713",
   "metadata": {},
   "outputs": [
    {
     "data": {
      "text/plain": [
       "Text(0.5, 0.98, 'Species Counts vs. Area')"
      ]
     },
     "execution_count": 202,
     "metadata": {},
     "output_type": "execute_result"
    },
    {
     "data": {
      "image/png": "[encoded data removed]",
      "text/plain": [
       "<Figure size 640x480 with 1 Axes>"
      ]
     },
     "metadata": {},
     "output_type": "display_data"
    }
   ],
   "source": [
    "# Plot\n",
    "fig, ax = plt.subplots()\n",
    "ax.set_yscale('log')\n",
    "ax.set_xscale('log')\n",
    "ax.scatter(id_df['area_km'], id_df['species_count'], label=\"Boise, Idaho\")\n",
    "ax.scatter(tx_df['area_km'], tx_df['species_count'], label=\"El Paso, Texas\")\n",
    "ax.scatter(vt_df['area_km'], vt_df['species_count'], label=\"Burlington, Vermont\")\n",
    "ax.scatter(mo_df['area_km'], mo_df['species_count'], label=\"St. Louis, Missouri\")\n",
    "ax.set_xlabel(\"log10 Area (km^2)\")\n",
    "ax.set_ylabel(\"log10 Species Count\")\n",
    "fig.legend(bbox_to_anchor=(0.8, 0.4), title=\"Area Centered Around\")\n",
    "fig.suptitle(\"Species Counts vs. Area\")"
   ]
  }
 ],
 "metadata": {
  "kernelspec": {
   "display_name": "Python 3 (ipykernel)",
   "language": "python",
   "name": "python3"
  },
  "language_info": {
   "codemirror_mode": {
    "name": "ipython",
    "version": 3
   },
   "file_extension": ".py",
   "mimetype": "text/x-python",
   "name": "python",
   "nbconvert_exporter": "python",
   "pygments_lexer": "ipython3",
   "version": "3.9.1"
  }
 },
 "nbformat": 4,
 "nbformat_minor": 5
}
