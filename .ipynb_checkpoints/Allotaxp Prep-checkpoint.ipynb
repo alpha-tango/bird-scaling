{
 "cells": [
  {
   "cell_type": "code",
   "execution_count": 1,
   "id": "bddd8b70-72ac-4f91-a123-411f4f638dc4",
   "metadata": {},
   "outputs": [],
   "source": [
    "import duckdb\n",
    "import matplotlib.pyplot as plt\n",
    "import numpy as np\n",
    "import pandas as pd\n",
    "import statsmodels.api as sm"
   ]
  },
  {
   "cell_type": "markdown",
   "id": "3a6cd416-0012-4a09-ad2b-2bef7c3f92c3",
   "metadata": {},
   "source": [
    "### 2020"
   ]
  },
  {
   "cell_type": "code",
   "execution_count": 2,
   "id": "5b4a68f4-ec26-4bc7-afaf-ff3205897332",
   "metadata": {},
   "outputs": [],
   "source": [
    "db_file = 'data/ebird_2020.parquet'"
   ]
  },
  {
   "cell_type": "code",
   "execution_count": 24,
   "id": "ce08d7ed-6f48-4e71-8428-9bde9b426e81",
   "metadata": {},
   "outputs": [],
   "source": [
    "sql = f\"\"\"\n",
    "SELECT\n",
    "    scientific_name as types,\n",
    "    SUM(CAST(observation_count AS INT)) AS counts,\n",
    "    SUM(CAST(observation_count AS INT)) / SUM(SUM(CAST(observation_count AS INT))) OVER () AS prob\n",
    "FROM '{db_file}'\n",
    "WHERE observation_count != 'X'\n",
    "GROUP BY scientific_name\n",
    "ORDER BY counts DESC\n",
    "\"\"\"\n",
    "results = duckdb.sql(sql)\n",
    "results_df = results.df()\n",
    "results_df['total_unique'] = len(results_df.index)\n",
    "results_df"
   ]
  },
  {
   "cell_type": "code",
   "execution_count": 27,
   "id": "745e1b51-e385-433a-882f-5229172e1a7d",
   "metadata": {},
   "outputs": [],
   "source": [
    "results_df.to_csv('data/allotaxp_2020.csv')"
   ]
  },
  {
   "cell_type": "markdown",
   "id": "f6d8714d-0d19-4050-887a-526c9737fbfc",
   "metadata": {},
   "source": [
    "### 2005"
   ]
  },
  {
   "cell_type": "code",
   "execution_count": 28,
   "id": "ff0a3d2b-f40c-4812-98a9-6529021d7698",
   "metadata": {},
   "outputs": [],
   "source": [
    "db_file = 'data/ebird_2005.parquet'"
   ]
  },
  {
   "cell_type": "code",
   "execution_count": 29,
   "id": "6ed11ac4-2105-4261-ab6e-72ae9167e694",
   "metadata": {},
   "outputs": [
    {
     "data": {
      "text/html": [
       "<div>\n",
       "<style scoped>\n",
       "    .dataframe tbody tr th:only-of-type {\n",
       "        vertical-align: middle;\n",
       "    }\n",
       "\n",
       "    .dataframe tbody tr th {\n",
       "        vertical-align: top;\n",
       "    }\n",
       "\n",
       "    .dataframe thead th {\n",
       "        text-align: right;\n",
       "    }\n",
       "</style>\n",
       "<table border=\"1\" class=\"dataframe\">\n",
       "  <thead>\n",
       "    <tr style=\"text-align: right;\">\n",
       "      <th></th>\n",
       "      <th>types</th>\n",
       "      <th>counts</th>\n",
       "      <th>prob</th>\n",
       "      <th>total_unique</th>\n",
       "    </tr>\n",
       "  </thead>\n",
       "  <tbody>\n",
       "    <tr>\n",
       "      <th>0</th>\n",
       "      <td>Agelaius phoeniceus</td>\n",
       "      <td>13995306.0</td>\n",
       "      <td>2.009507e-01</td>\n",
       "      <td>1196</td>\n",
       "    </tr>\n",
       "    <tr>\n",
       "      <th>1</th>\n",
       "      <td>Quiscalus quiscula</td>\n",
       "      <td>4950668.0</td>\n",
       "      <td>7.108386e-02</td>\n",
       "      <td>1196</td>\n",
       "    </tr>\n",
       "    <tr>\n",
       "      <th>2</th>\n",
       "      <td>Anser caerulescens</td>\n",
       "      <td>3160916.0</td>\n",
       "      <td>4.538581e-02</td>\n",
       "      <td>1196</td>\n",
       "    </tr>\n",
       "    <tr>\n",
       "      <th>3</th>\n",
       "      <td>Branta canadensis</td>\n",
       "      <td>2910003.0</td>\n",
       "      <td>4.178310e-02</td>\n",
       "      <td>1196</td>\n",
       "    </tr>\n",
       "    <tr>\n",
       "      <th>4</th>\n",
       "      <td>Phalaropus tricolor</td>\n",
       "      <td>2399966.0</td>\n",
       "      <td>3.445976e-02</td>\n",
       "      <td>1196</td>\n",
       "    </tr>\n",
       "    <tr>\n",
       "      <th>...</th>\n",
       "      <td>...</td>\n",
       "      <td>...</td>\n",
       "      <td>...</td>\n",
       "      <td>...</td>\n",
       "    </tr>\n",
       "    <tr>\n",
       "      <th>1191</th>\n",
       "      <td>Tyrannus sp.</td>\n",
       "      <td>1.0</td>\n",
       "      <td>1.435844e-08</td>\n",
       "      <td>1196</td>\n",
       "    </tr>\n",
       "    <tr>\n",
       "      <th>1192</th>\n",
       "      <td>Dendrocygna arborea</td>\n",
       "      <td>1.0</td>\n",
       "      <td>1.435844e-08</td>\n",
       "      <td>1196</td>\n",
       "    </tr>\n",
       "    <tr>\n",
       "      <th>1193</th>\n",
       "      <td>Setophaga cerulea x americana</td>\n",
       "      <td>1.0</td>\n",
       "      <td>1.435844e-08</td>\n",
       "      <td>1196</td>\n",
       "    </tr>\n",
       "    <tr>\n",
       "      <th>1194</th>\n",
       "      <td>Icterus bullockii x galbula</td>\n",
       "      <td>1.0</td>\n",
       "      <td>1.435844e-08</td>\n",
       "      <td>1196</td>\n",
       "    </tr>\n",
       "    <tr>\n",
       "      <th>1195</th>\n",
       "      <td>Setophaga townsendi/occidentalis</td>\n",
       "      <td>1.0</td>\n",
       "      <td>1.435844e-08</td>\n",
       "      <td>1196</td>\n",
       "    </tr>\n",
       "  </tbody>\n",
       "</table>\n",
       "<p>1196 rows × 4 columns</p>\n",
       "</div>"
      ],
      "text/plain": [
       "                                 types      counts          prob  total_unique\n",
       "0                  Agelaius phoeniceus  13995306.0  2.009507e-01          1196\n",
       "1                   Quiscalus quiscula   4950668.0  7.108386e-02          1196\n",
       "2                   Anser caerulescens   3160916.0  4.538581e-02          1196\n",
       "3                    Branta canadensis   2910003.0  4.178310e-02          1196\n",
       "4                  Phalaropus tricolor   2399966.0  3.445976e-02          1196\n",
       "...                                ...         ...           ...           ...\n",
       "1191                      Tyrannus sp.         1.0  1.435844e-08          1196\n",
       "1192               Dendrocygna arborea         1.0  1.435844e-08          1196\n",
       "1193     Setophaga cerulea x americana         1.0  1.435844e-08          1196\n",
       "1194       Icterus bullockii x galbula         1.0  1.435844e-08          1196\n",
       "1195  Setophaga townsendi/occidentalis         1.0  1.435844e-08          1196\n",
       "\n",
       "[1196 rows x 4 columns]"
      ]
     },
     "execution_count": 29,
     "metadata": {},
     "output_type": "execute_result"
    }
   ],
   "source": [
    "sql = f\"\"\"\n",
    "SELECT\n",
    "    scientific_name as types,\n",
    "    SUM(CAST(observation_count AS INT)) AS counts,\n",
    "    SUM(CAST(observation_count AS INT)) / SUM(SUM(CAST(observation_count AS INT))) OVER () AS prob\n",
    "FROM '{db_file}'\n",
    "WHERE observation_count != 'X'\n",
    "GROUP BY scientific_name\n",
    "ORDER BY counts DESC\n",
    "\"\"\"\n",
    "results = duckdb.sql(sql)\n",
    "results_df = results.df()\n",
    "results_df['total_unique'] = len(results_df.index)\n",
    "results_df"
   ]
  },
  {
   "cell_type": "code",
   "execution_count": 30,
   "id": "733bc246-1d1d-4d54-91c0-e99a38b8717e",
   "metadata": {},
   "outputs": [],
   "source": [
    "results_df.to_csv('data/allotaxp_2005.csv')"
   ]
  },
  {
   "cell_type": "markdown",
   "id": "36a28a9e-e7e8-411b-86c8-c69f96ae2349",
   "metadata": {},
   "source": [
    "### 2010"
   ]
  },
  {
   "cell_type": "code",
   "execution_count": 32,
   "id": "70bee9e0-b7f3-48b3-a599-a2f0f970ae7a",
   "metadata": {},
   "outputs": [],
   "source": [
    "db_file = 'data/ebird_2010.parquet'"
   ]
  },
  {
   "cell_type": "code",
   "execution_count": 33,
   "id": "3bb3a9ec-b65d-40d4-b7c2-e088f665a9ac",
   "metadata": {},
   "outputs": [
    {
     "data": {
      "text/html": [
       "<div>\n",
       "<style scoped>\n",
       "    .dataframe tbody tr th:only-of-type {\n",
       "        vertical-align: middle;\n",
       "    }\n",
       "\n",
       "    .dataframe tbody tr th {\n",
       "        vertical-align: top;\n",
       "    }\n",
       "\n",
       "    .dataframe thead th {\n",
       "        text-align: right;\n",
       "    }\n",
       "</style>\n",
       "<table border=\"1\" class=\"dataframe\">\n",
       "  <thead>\n",
       "    <tr style=\"text-align: right;\">\n",
       "      <th></th>\n",
       "      <th>types</th>\n",
       "      <th>counts</th>\n",
       "      <th>prob</th>\n",
       "      <th>total_unique</th>\n",
       "    </tr>\n",
       "  </thead>\n",
       "  <tbody>\n",
       "    <tr>\n",
       "      <th>0</th>\n",
       "      <td>Agelaius phoeniceus</td>\n",
       "      <td>24929071.0</td>\n",
       "      <td>9.150201e-02</td>\n",
       "      <td>1284</td>\n",
       "    </tr>\n",
       "    <tr>\n",
       "      <th>1</th>\n",
       "      <td>Tachycineta bicolor</td>\n",
       "      <td>23267210.0</td>\n",
       "      <td>8.540216e-02</td>\n",
       "      <td>1284</td>\n",
       "    </tr>\n",
       "    <tr>\n",
       "      <th>2</th>\n",
       "      <td>Anser caerulescens</td>\n",
       "      <td>17368656.0</td>\n",
       "      <td>6.375155e-02</td>\n",
       "      <td>1284</td>\n",
       "    </tr>\n",
       "    <tr>\n",
       "      <th>3</th>\n",
       "      <td>Branta canadensis</td>\n",
       "      <td>13130226.0</td>\n",
       "      <td>4.819442e-02</td>\n",
       "      <td>1284</td>\n",
       "    </tr>\n",
       "    <tr>\n",
       "      <th>4</th>\n",
       "      <td>Quiscalus quiscula</td>\n",
       "      <td>11541078.0</td>\n",
       "      <td>4.236146e-02</td>\n",
       "      <td>1284</td>\n",
       "    </tr>\n",
       "    <tr>\n",
       "      <th>...</th>\n",
       "      <td>...</td>\n",
       "      <td>...</td>\n",
       "      <td>...</td>\n",
       "      <td>...</td>\n",
       "    </tr>\n",
       "    <tr>\n",
       "      <th>1279</th>\n",
       "      <td>Estrildidae sp.</td>\n",
       "      <td>1.0</td>\n",
       "      <td>3.670494e-09</td>\n",
       "      <td>1284</td>\n",
       "    </tr>\n",
       "    <tr>\n",
       "      <th>1280</th>\n",
       "      <td>Fregata ariel</td>\n",
       "      <td>1.0</td>\n",
       "      <td>3.670494e-09</td>\n",
       "      <td>1284</td>\n",
       "    </tr>\n",
       "    <tr>\n",
       "      <th>1281</th>\n",
       "      <td>Spizella pallida x pusilla</td>\n",
       "      <td>1.0</td>\n",
       "      <td>3.670494e-09</td>\n",
       "      <td>1284</td>\n",
       "    </tr>\n",
       "    <tr>\n",
       "      <th>1282</th>\n",
       "      <td>Anas rubripes/fulvigula</td>\n",
       "      <td>1.0</td>\n",
       "      <td>3.670494e-09</td>\n",
       "      <td>1284</td>\n",
       "    </tr>\n",
       "    <tr>\n",
       "      <th>1283</th>\n",
       "      <td>Cardinalis cardinalis/sinuatus</td>\n",
       "      <td>1.0</td>\n",
       "      <td>3.670494e-09</td>\n",
       "      <td>1284</td>\n",
       "    </tr>\n",
       "  </tbody>\n",
       "</table>\n",
       "<p>1284 rows × 4 columns</p>\n",
       "</div>"
      ],
      "text/plain": [
       "                               types      counts          prob  total_unique\n",
       "0                Agelaius phoeniceus  24929071.0  9.150201e-02          1284\n",
       "1                Tachycineta bicolor  23267210.0  8.540216e-02          1284\n",
       "2                 Anser caerulescens  17368656.0  6.375155e-02          1284\n",
       "3                  Branta canadensis  13130226.0  4.819442e-02          1284\n",
       "4                 Quiscalus quiscula  11541078.0  4.236146e-02          1284\n",
       "...                              ...         ...           ...           ...\n",
       "1279                 Estrildidae sp.         1.0  3.670494e-09          1284\n",
       "1280                   Fregata ariel         1.0  3.670494e-09          1284\n",
       "1281      Spizella pallida x pusilla         1.0  3.670494e-09          1284\n",
       "1282         Anas rubripes/fulvigula         1.0  3.670494e-09          1284\n",
       "1283  Cardinalis cardinalis/sinuatus         1.0  3.670494e-09          1284\n",
       "\n",
       "[1284 rows x 4 columns]"
      ]
     },
     "execution_count": 33,
     "metadata": {},
     "output_type": "execute_result"
    }
   ],
   "source": [
    "sql = f\"\"\"\n",
    "SELECT\n",
    "    scientific_name as types,\n",
    "    SUM(CAST(observation_count AS INT)) AS counts,\n",
    "    SUM(CAST(observation_count AS INT)) / SUM(SUM(CAST(observation_count AS INT))) OVER () AS prob\n",
    "FROM '{db_file}'\n",
    "WHERE observation_count != 'X'\n",
    "GROUP BY scientific_name\n",
    "ORDER BY counts DESC\n",
    "\"\"\"\n",
    "results = duckdb.sql(sql)\n",
    "results_df = results.df()\n",
    "results_df['total_unique'] = len(results_df.index)\n",
    "results_df"
   ]
  },
  {
   "cell_type": "code",
   "execution_count": 34,
   "id": "99bac826-f3b5-4906-a4bc-837fc2f582b1",
   "metadata": {},
   "outputs": [],
   "source": [
    "results_df.to_csv('data/allotaxp_2010.csv')"
   ]
  },
  {
   "cell_type": "markdown",
   "id": "213482ca-73c8-412f-acfa-0e80668d3a65",
   "metadata": {},
   "source": [
    "### 2015"
   ]
  },
  {
   "cell_type": "code",
   "execution_count": 35,
   "id": "ec8174f9-a29b-462f-97f2-e4ab08687f94",
   "metadata": {},
   "outputs": [],
   "source": [
    "db_file = 'data/ebird_2015.parquet'"
   ]
  },
  {
   "cell_type": "code",
   "execution_count": 36,
   "id": "acc7dda6-3a79-4106-b344-ae2002a4ad40",
   "metadata": {},
   "outputs": [
    {
     "ename": "IOException",
     "evalue": "IO Error: No files found that match the pattern \"data/ebird_2015.parquet\"",
     "output_type": "error",
     "traceback": [
      "\u001b[0;31m---------------------------------------------------------------------------\u001b[0m",
      "\u001b[0;31mIOException\u001b[0m                               Traceback (most recent call last)",
      "Cell \u001b[0;32mIn[36], line 11\u001b[0m\n\u001b[1;32m      1\u001b[0m sql \u001b[38;5;241m=\u001b[39m \u001b[38;5;124mf\u001b[39m\u001b[38;5;124m\"\"\"\u001b[39m\n\u001b[1;32m      2\u001b[0m \u001b[38;5;124mSELECT\u001b[39m\n\u001b[1;32m      3\u001b[0m \u001b[38;5;124m    scientific_name as types,\u001b[39m\n\u001b[0;32m   (...)\u001b[0m\n\u001b[1;32m      9\u001b[0m \u001b[38;5;124mORDER BY counts DESC\u001b[39m\n\u001b[1;32m     10\u001b[0m \u001b[38;5;124m\"\"\"\u001b[39m\n\u001b[0;32m---> 11\u001b[0m results \u001b[38;5;241m=\u001b[39m \u001b[43mduckdb\u001b[49m\u001b[38;5;241;43m.\u001b[39;49m\u001b[43msql\u001b[49m\u001b[43m(\u001b[49m\u001b[43msql\u001b[49m\u001b[43m)\u001b[49m\n\u001b[1;32m     12\u001b[0m results_df \u001b[38;5;241m=\u001b[39m results\u001b[38;5;241m.\u001b[39mdf()\n\u001b[1;32m     13\u001b[0m results_df[\u001b[38;5;124m'\u001b[39m\u001b[38;5;124mtotal_unique\u001b[39m\u001b[38;5;124m'\u001b[39m] \u001b[38;5;241m=\u001b[39m \u001b[38;5;28mlen\u001b[39m(results_df\u001b[38;5;241m.\u001b[39mindex)\n",
      "\u001b[0;31mIOException\u001b[0m: IO Error: No files found that match the pattern \"data/ebird_2015.parquet\""
     ]
    }
   ],
   "source": [
    "sql = f\"\"\"\n",
    "SELECT\n",
    "    scientific_name as types,\n",
    "    SUM(CAST(observation_count AS INT)) AS counts,\n",
    "    SUM(CAST(observation_count AS INT)) / SUM(SUM(CAST(observation_count AS INT))) OVER () AS prob\n",
    "FROM '{db_file}'\n",
    "WHERE observation_count != 'X'\n",
    "GROUP BY scientific_name\n",
    "ORDER BY counts DESC\n",
    "\"\"\"\n",
    "results = duckdb.sql(sql)\n",
    "results_df = results.df()\n",
    "results_df['total_unique'] = len(results_df.index)\n",
    "results_df"
   ]
  }
 ],
 "metadata": {
  "kernelspec": {
   "display_name": "Python 3 (ipykernel)",
   "language": "python",
   "name": "python3"
  },
  "language_info": {
   "codemirror_mode": {
    "name": "ipython",
    "version": 3
   },
   "file_extension": ".py",
   "mimetype": "text/x-python",
   "name": "python",
   "nbconvert_exporter": "python",
   "pygments_lexer": "ipython3",
   "version": "3.9.1"
  }
 },
 "nbformat": 4,
 "nbformat_minor": 5
}
