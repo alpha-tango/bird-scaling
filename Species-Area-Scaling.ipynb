{
 "cells": [
  {
   "cell_type": "code",
   "execution_count": 1,
   "id": "edf5be9d-a309-4f97-a60c-8d88b5c8a907",
   "metadata": {},
   "outputs": [],
   "source": [
    "import duckdb\n",
    "import matplotlib.pyplot as plt\n",
    "import math\n",
    "import numpy as np\n",
    "import pandas as pd\n",
    "from pyproj import Geod\n",
    "from shapely import geometry, box\n",
    "import statsmodels.api as sm"
   ]
  },
  {
   "cell_type": "markdown",
   "id": "6982f924-7ffb-4ceb-bbdf-b6245cd63510",
   "metadata": {},
   "source": [
    "### Settings"
   ]
  },
  {
   "cell_type": "code",
   "execution_count": 2,
   "id": "37dc678e-13eb-465c-aac6-b4cdae4ed031",
   "metadata": {},
   "outputs": [],
   "source": [
    "# which projection to use\n",
    "# https://en.wikipedia.org/wiki/World_Geodetic_System\n",
    "geod=Geod(ellps='WGS84')  "
   ]
  },
  {
   "cell_type": "markdown",
   "id": "d4067a71-8926-42db-b055-c4800c84ad6c",
   "metadata": {},
   "source": [
    "### Functions"
   ]
  },
  {
   "cell_type": "code",
   "execution_count": 3,
   "id": "d92e8b5c-4778-49df-bee3-9b32635dbabe",
   "metadata": {},
   "outputs": [],
   "source": [
    "def get_lat_long_windows(start_lat, start_long, n_boxes=12):\n",
    "    \"\"\" \n",
    "    Generate & return a series of boxes of increasing size,\n",
    "    approximately centered at the given latitude and longitude. \n",
    "    np.logspace generates a range of numbers that are evenly spaced in\n",
    "    the given base -- useful here as we think we're working with a power law\n",
    "    distribution.\n",
    "    \"\"\"\n",
    "    boxes = []\n",
    "    for x in np.logspace(-1, 5, num=n_boxes, base=10):\n",
    "        boxes.append(\n",
    "            {\"min_lat\": start_lat * x // 1 / x,\n",
    "             \"max_lat\": (start_lat * x // 1 + 1) / x,\n",
    "             \"min_long\": start_long * x // 1 / x,\n",
    "             \"max_long\": (start_long * x // 1 + 1) / x\n",
    "            })\n",
    "    return boxes\n",
    "\n",
    "def area_km(b):\n",
    "    \"\"\" return the area on earth of the given lat/long-defined polygon.\n",
    "    The projection is defined above in settings.\n",
    "    geod.geometry_area_perimeter returns a tuple of (area, perimeter)\n",
    "    where area is in m^2. We convert to km^2.\n",
    "    \"\"\"\n",
    "    return geod.geometry_area_perimeter(b)[0]/(1000*1000)\n",
    "\n",
    "def multiwindow_species_count_select(windows):\n",
    "    \"\"\"\n",
    "    For a set of windows as generated with with `get_lat_long_windows`,\n",
    "    format a big select statement that selects the count of species\n",
    "    within each area. \n",
    "    Doesn't run the statement, just generates the SQL needed for it.\n",
    "    \"\"\"\n",
    "    selects = []\n",
    "    for w in windows:\n",
    "        selects.append(f\"\"\"\n",
    "            (SELECT\n",
    "                {w[\"min_lat\"]} AS min_lat,\n",
    "                {w[\"max_lat\"]} AS max_lat,\n",
    "                {w[\"min_long\"]} AS min_long,\n",
    "                {w[\"max_long\"]} AS max_long,\n",
    "                count(distinct scientific_name) as species_count,\n",
    "            FROM read_parquet(['data/ebird_2022.parquet', 'data/ebird_2021.parquet', 'data/ebird_2020.parquet'])\n",
    "            WHERE latitude >= {w[\"min_lat\"]}\n",
    "            AND latitude < {w[\"max_lat\"]}\n",
    "            AND longitude >= {w[\"min_long\"]}\n",
    "            AND longitude < {w[\"max_long\"]}\n",
    "            GROUP BY 1,2,3,4)\n",
    "        \"\"\")\n",
    "\n",
    "    return \"\\n UNION \\n\".join(selects)\n",
    "\n",
    "def df_with_area(df):\n",
    "    \"\"\"\n",
    "    Add area calculations to the dataframe.\n",
    "    \"\"\"\n",
    "    df['shapely_box'] = box(df['max_long'], df['max_lat'], df['min_long'], df['min_lat'])\n",
    "    df['area_km'] = df['shapely_box'].map(area_km)\n",
    "    return df\n",
    "\n",
    "def df_with_log10(df):\n",
    "    \"\"\"\n",
    "    Add log10 columns to the dataframe.\n",
    "    \"\"\"\n",
    "    df['log10_area_km'] = np.log10(df['area_km'])\n",
    "    df['log10_species_count'] = np.log10(df['species_count'])\n",
    "    return df\n",
    "\n",
    "def best_fit_line(df):\n",
    "    scaling_regime_min = 0.5\n",
    "    scaling_regime_max = 7\n",
    "    df = df.sort_values(by='log10_area_km')\n",
    "    scaling_range = df[(df['log10_area_km'] < scaling_regime_max) & (df['log10_area_km'] >= scaling_regime_min)]\n",
    "    x = scaling_range['log10_area_km']\n",
    "    X = sm.add_constant(x)\n",
    "    line = sm.OLS(scaling_range['log10_species_count'], X).fit()\n",
    "    slope = line.params.log10_area_km\n",
    "    intercept = line.params.const\n",
    "    print(line.summary2())\n",
    "    y = scaling_range['log10_area_km'] * slope + intercept\n",
    "    return x,y,slope\n"
   ]
  },
  {
   "cell_type": "markdown",
   "id": "fefc829f-df14-4a2d-8101-b2ff5d60562f",
   "metadata": {},
   "source": [
    "## Land Only"
   ]
  },
  {
   "cell_type": "markdown",
   "id": "27116d62-cf06-460b-a750-0bc15f735800",
   "metadata": {},
   "source": [
    "### Burlington, VT-centered"
   ]
  },
  {
   "cell_type": "code",
   "execution_count": 4,
   "id": "7131a11d-b7c8-4ea7-95e6-cc81fc5e466f",
   "metadata": {},
   "outputs": [
    {
     "data": {
      "application/vnd.jupyter.widget-view+json": {
       "model_id": "659683cb9ee14a05a73c96bbae4266fc",
       "version_major": 2,
       "version_minor": 0
      },
      "text/plain": [
       "FloatProgress(value=0.0, layout=Layout(width='auto'), style=ProgressStyle(bar_color='black'))"
      ]
     },
     "metadata": {},
     "output_type": "display_data"
    },
    {
     "data": {
      "text/html": [
       "<div>\n",
       "<style scoped>\n",
       "    .dataframe tbody tr th:only-of-type {\n",
       "        vertical-align: middle;\n",
       "    }\n",
       "\n",
       "    .dataframe tbody tr th {\n",
       "        vertical-align: top;\n",
       "    }\n",
       "\n",
       "    .dataframe thead th {\n",
       "        text-align: right;\n",
       "    }\n",
       "</style>\n",
       "<table border=\"1\" class=\"dataframe\">\n",
       "  <thead>\n",
       "    <tr style=\"text-align: right;\">\n",
       "      <th></th>\n",
       "      <th>min_lat</th>\n",
       "      <th>max_lat</th>\n",
       "      <th>min_long</th>\n",
       "      <th>max_long</th>\n",
       "      <th>species_count</th>\n",
       "    </tr>\n",
       "  </thead>\n",
       "  <tbody>\n",
       "    <tr>\n",
       "      <th>1</th>\n",
       "      <td>40.000000</td>\n",
       "      <td>50.000000</td>\n",
       "      <td>-80.000000</td>\n",
       "      <td>-70.000000</td>\n",
       "      <td>831</td>\n",
       "    </tr>\n",
       "    <tr>\n",
       "      <th>6</th>\n",
       "      <td>42.720538</td>\n",
       "      <td>45.568574</td>\n",
       "      <td>-74.048933</td>\n",
       "      <td>-71.200897</td>\n",
       "      <td>504</td>\n",
       "    </tr>\n",
       "    <tr>\n",
       "      <th>2</th>\n",
       "      <td>43.801065</td>\n",
       "      <td>44.612196</td>\n",
       "      <td>-73.812906</td>\n",
       "      <td>-73.001775</td>\n",
       "      <td>400</td>\n",
       "    </tr>\n",
       "    <tr>\n",
       "      <th>4</th>\n",
       "      <td>44.354490</td>\n",
       "      <td>44.585503</td>\n",
       "      <td>-73.231111</td>\n",
       "      <td>-73.000099</td>\n",
       "      <td>311</td>\n",
       "    </tr>\n",
       "    <tr>\n",
       "      <th>3</th>\n",
       "      <td>44.410493</td>\n",
       "      <td>44.476286</td>\n",
       "      <td>-73.227968</td>\n",
       "      <td>-73.162175</td>\n",
       "      <td>254</td>\n",
       "    </tr>\n",
       "    <tr>\n",
       "      <th>5</th>\n",
       "      <td>44.446949</td>\n",
       "      <td>44.465687</td>\n",
       "      <td>-73.228785</td>\n",
       "      <td>-73.210047</td>\n",
       "      <td>179</td>\n",
       "    </tr>\n",
       "    <tr>\n",
       "      <th>0</th>\n",
       "      <td>44.460041</td>\n",
       "      <td>44.465378</td>\n",
       "      <td>-73.214177</td>\n",
       "      <td>-73.208840</td>\n",
       "      <td>83</td>\n",
       "    </tr>\n",
       "  </tbody>\n",
       "</table>\n",
       "</div>"
      ],
      "text/plain": [
       "     min_lat    max_lat   min_long   max_long  species_count\n",
       "1  40.000000  50.000000 -80.000000 -70.000000            831\n",
       "6  42.720538  45.568574 -74.048933 -71.200897            504\n",
       "2  43.801065  44.612196 -73.812906 -73.001775            400\n",
       "4  44.354490  44.585503 -73.231111 -73.000099            311\n",
       "3  44.410493  44.476286 -73.227968 -73.162175            254\n",
       "5  44.446949  44.465687 -73.228785 -73.210047            179\n",
       "0  44.460041  44.465378 -73.214177 -73.208840             83"
      ]
     },
     "execution_count": 4,
     "metadata": {},
     "output_type": "execute_result"
    }
   ],
   "source": [
    "# Run query and convert to dataframe\n",
    "input_lat = 44.461917\n",
    "input_long = -73.212406\n",
    "windows = get_lat_long_windows(input_lat, input_long)\n",
    "big_select = multiwindow_species_count_select(windows)\n",
    "vt_df = duckdb.sql(big_select).df()\n",
    "vt_df.sort_values(by=\"min_lat\")"
   ]
  },
  {
   "cell_type": "code",
   "execution_count": 5,
   "id": "e63087a4-2338-48e3-945d-cb9d1f20ac7c",
   "metadata": {},
   "outputs": [],
   "source": [
    "# Add necessary columns\n",
    "vt_df = df_with_area(vt_df)\n",
    "vt_df = df_with_log10(vt_df)"
   ]
  },
  {
   "cell_type": "code",
   "execution_count": 6,
   "id": "ecd27b7c-9038-47e0-86d0-6c535a1ee84a",
   "metadata": {},
   "outputs": [
    {
     "name": "stdout",
     "output_type": "stream",
     "text": [
      "                   Results: Ordinary least squares\n",
      "=====================================================================\n",
      "Model:              OLS                 Adj. R-squared:     0.951    \n",
      "Dependent Variable: log10_species_count AIC:                -15.6125 \n",
      "Date:               2023-12-13 11:11    BIC:                -16.3937 \n",
      "No. Observations:   5                   Log-Likelihood:     9.8063   \n",
      "Df Model:           1                   F-statistic:        79.47    \n",
      "Df Residuals:       3                   Prob (F-statistic): 0.00298  \n",
      "R-squared:          0.964               Scale:              0.0019313\n",
      "-----------------------------------------------------------------------\n",
      "                 Coef.    Std.Err.      t      P>|t|    [0.025   0.975]\n",
      "-----------------------------------------------------------------------\n",
      "const            2.1965     0.0519   42.3532   0.0000   2.0315   2.3615\n",
      "log10_area_km    0.1136     0.0127    8.9145   0.0030   0.0731   0.1542\n",
      "---------------------------------------------------------------------\n",
      "Omnibus:                nan           Durbin-Watson:            1.885\n",
      "Prob(Omnibus):          nan           Jarque-Bera (JB):         0.423\n",
      "Skew:                   0.114         Prob(JB):                 0.810\n",
      "Kurtosis:               1.594         Condition No.:            11   \n",
      "=====================================================================\n",
      "Notes:\n",
      "[1] Standard Errors assume that the covariance matrix of the errors\n",
      "is correctly specified.\n"
     ]
    },
    {
     "name": "stderr",
     "output_type": "stream",
     "text": [
      "/Users/annepope/.venv/ebirdy/lib/python3.9/site-packages/statsmodels/stats/stattools.py:74: ValueWarning: omni_normtest is not valid with less than 8 observations; 5 samples were given.\n",
      "  warn(\"omni_normtest is not valid with less than 8 observations; %i \"\n"
     ]
    }
   ],
   "source": [
    "vt_x, vt_y, slope = best_fit_line(vt_df)"
   ]
  },
  {
   "cell_type": "code",
   "execution_count": 7,
   "id": "82a4df7e-9463-407d-b11f-cd6049033a71",
   "metadata": {},
   "outputs": [
    {
     "data": {
      "text/plain": [
       "Text(0.5, 0.98, 'Starting in Burlington, VT')"
      ]
     },
     "execution_count": 7,
     "metadata": {},
     "output_type": "execute_result"
    },
    {
     "data": {
      "image/png": "[encoded data removed]",
      "text/plain": [
       "<Figure size 640x480 with 1 Axes>"
      ]
     },
     "metadata": {},
     "output_type": "display_data"
    }
   ],
   "source": [
    "# Plot\n",
    "fig, ax = plt.subplots()\n",
    "ax.scatter(vt_df['log10_area_km'], vt_df['log10_species_count'])\n",
    "ax.set_xlabel(\"log10 Area (km^2)\")\n",
    "ax.set_ylabel(\"log10 Species Count\")\n",
    "ax.set_ylim(0, 3)\n",
    "ax.set_xlim(-2, 7)\n",
    "ax.plot(vt_x, vt_y)\n",
    "ax.text(1, 1, f\"{slope:.2f}\")\n",
    "fig.suptitle(\"Starting in Burlington, VT\")"
   ]
  },
  {
   "cell_type": "markdown",
   "id": "1189d954-332c-4ca0-b7df-1fef9c94f35e",
   "metadata": {
    "jp-MarkdownHeadingCollapsed": true
   },
   "source": [
    "### El Paso, Texas - centered"
   ]
  },
  {
   "cell_type": "code",
   "execution_count": 8,
   "id": "2fc38d84-ef9f-4113-aaab-6fd0f195280c",
   "metadata": {},
   "outputs": [
    {
     "data": {
      "application/vnd.jupyter.widget-view+json": {
       "model_id": "e314851eca9c477fba59adf3b5542354",
       "version_major": 2,
       "version_minor": 0
      },
      "text/plain": [
       "FloatProgress(value=0.0, layout=Layout(width='auto'), style=ProgressStyle(bar_color='black'))"
      ]
     },
     "metadata": {},
     "output_type": "display_data"
    },
    {
     "data": {
      "text/html": [
       "<div>\n",
       "<style scoped>\n",
       "    .dataframe tbody tr th:only-of-type {\n",
       "        vertical-align: middle;\n",
       "    }\n",
       "\n",
       "    .dataframe tbody tr th {\n",
       "        vertical-align: top;\n",
       "    }\n",
       "\n",
       "    .dataframe thead th {\n",
       "        text-align: right;\n",
       "    }\n",
       "</style>\n",
       "<table border=\"1\" class=\"dataframe\">\n",
       "  <thead>\n",
       "    <tr style=\"text-align: right;\">\n",
       "      <th></th>\n",
       "      <th>min_lat</th>\n",
       "      <th>max_lat</th>\n",
       "      <th>min_long</th>\n",
       "      <th>max_long</th>\n",
       "      <th>species_count</th>\n",
       "    </tr>\n",
       "  </thead>\n",
       "  <tbody>\n",
       "    <tr>\n",
       "      <th>2</th>\n",
       "      <td>30.000000</td>\n",
       "      <td>40.000000</td>\n",
       "      <td>-110.000000</td>\n",
       "      <td>-100.000000</td>\n",
       "      <td>885</td>\n",
       "    </tr>\n",
       "    <tr>\n",
       "      <th>5</th>\n",
       "      <td>31.328395</td>\n",
       "      <td>34.176430</td>\n",
       "      <td>-108.225363</td>\n",
       "      <td>-105.377327</td>\n",
       "      <td>568</td>\n",
       "    </tr>\n",
       "    <tr>\n",
       "      <th>1</th>\n",
       "      <td>31.634102</td>\n",
       "      <td>32.445233</td>\n",
       "      <td>-107.069270</td>\n",
       "      <td>-106.258139</td>\n",
       "      <td>483</td>\n",
       "    </tr>\n",
       "    <tr>\n",
       "      <th>4</th>\n",
       "      <td>31.648777</td>\n",
       "      <td>31.879790</td>\n",
       "      <td>-106.496979</td>\n",
       "      <td>-106.265966</td>\n",
       "      <td>350</td>\n",
       "    </tr>\n",
       "    <tr>\n",
       "      <th>3</th>\n",
       "      <td>31.778175</td>\n",
       "      <td>31.843968</td>\n",
       "      <td>-106.519389</td>\n",
       "      <td>-106.453596</td>\n",
       "      <td>232</td>\n",
       "    </tr>\n",
       "    <tr>\n",
       "      <th>0</th>\n",
       "      <td>31.779943</td>\n",
       "      <td>31.798682</td>\n",
       "      <td>-106.470306</td>\n",
       "      <td>-106.451568</td>\n",
       "      <td>186</td>\n",
       "    </tr>\n",
       "    <tr>\n",
       "      <th>6</th>\n",
       "      <td>31.785381</td>\n",
       "      <td>31.790717</td>\n",
       "      <td>-106.461813</td>\n",
       "      <td>-106.456476</td>\n",
       "      <td>185</td>\n",
       "    </tr>\n",
       "    <tr>\n",
       "      <th>7</th>\n",
       "      <td>31.787420</td>\n",
       "      <td>31.788940</td>\n",
       "      <td>-106.457612</td>\n",
       "      <td>-106.456092</td>\n",
       "      <td>14</td>\n",
       "    </tr>\n",
       "  </tbody>\n",
       "</table>\n",
       "</div>"
      ],
      "text/plain": [
       "     min_lat    max_lat    min_long    max_long  species_count\n",
       "2  30.000000  40.000000 -110.000000 -100.000000            885\n",
       "5  31.328395  34.176430 -108.225363 -105.377327            568\n",
       "1  31.634102  32.445233 -107.069270 -106.258139            483\n",
       "4  31.648777  31.879790 -106.496979 -106.265966            350\n",
       "3  31.778175  31.843968 -106.519389 -106.453596            232\n",
       "0  31.779943  31.798682 -106.470306 -106.451568            186\n",
       "6  31.785381  31.790717 -106.461813 -106.456476            185\n",
       "7  31.787420  31.788940 -106.457612 -106.456092             14"
      ]
     },
     "execution_count": 8,
     "metadata": {},
     "output_type": "execute_result"
    }
   ],
   "source": [
    "# Run query and convert to dataframe\n",
    "\n",
    "input_lat = 31.78886\n",
    "input_long = -106.4572\n",
    "windows = get_lat_long_windows(input_lat, input_long)\n",
    "big_select = multiwindow_species_count_select(windows)\n",
    "tx_df = duckdb.sql(big_select).df()\n",
    "tx_df.sort_values(by=\"min_lat\")"
   ]
  },
  {
   "cell_type": "code",
   "execution_count": 9,
   "id": "7b327cea-c258-4a36-944b-ac515016fe4e",
   "metadata": {},
   "outputs": [],
   "source": [
    "# Add necessary columns\n",
    "tx_df = df_with_area(tx_df)\n",
    "tx_df = df_with_log10(tx_df)"
   ]
  },
  {
   "cell_type": "code",
   "execution_count": 10,
   "id": "14d53cdc-ac81-4ec1-94c5-7892508e1b61",
   "metadata": {},
   "outputs": [
    {
     "name": "stdout",
     "output_type": "stream",
     "text": [
      "                   Results: Ordinary least squares\n",
      "======================================================================\n",
      "Model:              OLS                 Adj. R-squared:     0.986     \n",
      "Dependent Variable: log10_species_count AIC:                -23.3343  \n",
      "Date:               2023-12-13 11:12    BIC:                -23.7508  \n",
      "No. Observations:   6                   Log-Likelihood:     13.667    \n",
      "Df Model:           1                   F-statistic:        341.0     \n",
      "Df Residuals:       4                   Prob (F-statistic): 5.06e-05  \n",
      "R-squared:          0.988               Scale:              0.00092277\n",
      "------------------------------------------------------------------------\n",
      "                  Coef.    Std.Err.      t      P>|t|    [0.025   0.975]\n",
      "------------------------------------------------------------------------\n",
      "const             2.1886     0.0252   86.7898   0.0000   2.1186   2.2586\n",
      "log10_area_km     0.1232     0.0067   18.4667   0.0001   0.1047   0.1418\n",
      "----------------------------------------------------------------------\n",
      "Omnibus:                nan            Durbin-Watson:            2.995\n",
      "Prob(Omnibus):          nan            Jarque-Bera (JB):         0.946\n",
      "Skew:                   -0.734         Prob(JB):                 0.623\n",
      "Kurtosis:               1.723          Condition No.:            8    \n",
      "======================================================================\n",
      "Notes:\n",
      "[1] Standard Errors assume that the covariance matrix of the errors is\n",
      "correctly specified.\n"
     ]
    },
    {
     "name": "stderr",
     "output_type": "stream",
     "text": [
      "/Users/annepope/.venv/ebirdy/lib/python3.9/site-packages/statsmodels/stats/stattools.py:74: ValueWarning: omni_normtest is not valid with less than 8 observations; 6 samples were given.\n",
      "  warn(\"omni_normtest is not valid with less than 8 observations; %i \"\n"
     ]
    }
   ],
   "source": [
    "tx_x, tx_y, slope = best_fit_line(tx_df)"
   ]
  },
  {
   "cell_type": "code",
   "execution_count": 11,
   "id": "024a4709-28cb-4f4e-8d23-c2d48d421173",
   "metadata": {},
   "outputs": [
    {
     "data": {
      "text/plain": [
       "Text(0.5, 0.98, 'Starting in El Paso, Texas')"
      ]
     },
     "execution_count": 11,
     "metadata": {},
     "output_type": "execute_result"
    },
    {
     "data": {
      "image/png": "[encoded data removed]",
      "text/plain": [
       "<Figure size 640x480 with 1 Axes>"
      ]
     },
     "metadata": {},
     "output_type": "display_data"
    }
   ],
   "source": [
    "# Plot\n",
    "fig, ax = plt.subplots()\n",
    "ax.scatter(tx_df['log10_area_km'], tx_df['log10_species_count'])\n",
    "ax.set_xlabel(\"log10 Area (km^2)\")\n",
    "ax.set_ylabel(\"log10 Species Count\")\n",
    "ax.set_ylim(0, 3)\n",
    "ax.set_xlim(-2, 7)\n",
    "ax.plot(tx_x, tx_y)\n",
    "ax.text(1, 1, f\"{slope:.2f}\")\n",
    "fig.suptitle(\"Starting in El Paso, Texas\")"
   ]
  },
  {
   "cell_type": "markdown",
   "id": "ecbb6160-282a-42a6-970d-117989914060",
   "metadata": {
    "jp-MarkdownHeadingCollapsed": true
   },
   "source": [
    "### Starting in Boise, Idaho"
   ]
  },
  {
   "cell_type": "code",
   "execution_count": 12,
   "id": "2e524ee3-08cc-42df-aee1-b3b28a9132b4",
   "metadata": {},
   "outputs": [
    {
     "data": {
      "application/vnd.jupyter.widget-view+json": {
       "model_id": "2a1052345476487db548fb3709b90add",
       "version_major": 2,
       "version_minor": 0
      },
      "text/plain": [
       "FloatProgress(value=0.0, layout=Layout(width='auto'), style=ProgressStyle(bar_color='black'))"
      ]
     },
     "metadata": {},
     "output_type": "display_data"
    },
    {
     "data": {
      "text/html": [
       "<div>\n",
       "<style scoped>\n",
       "    .dataframe tbody tr th:only-of-type {\n",
       "        vertical-align: middle;\n",
       "    }\n",
       "\n",
       "    .dataframe tbody tr th {\n",
       "        vertical-align: top;\n",
       "    }\n",
       "\n",
       "    .dataframe thead th {\n",
       "        text-align: right;\n",
       "    }\n",
       "</style>\n",
       "<table border=\"1\" class=\"dataframe\">\n",
       "  <thead>\n",
       "    <tr style=\"text-align: right;\">\n",
       "      <th></th>\n",
       "      <th>min_lat</th>\n",
       "      <th>max_lat</th>\n",
       "      <th>min_long</th>\n",
       "      <th>max_long</th>\n",
       "      <th>species_count</th>\n",
       "    </tr>\n",
       "  </thead>\n",
       "  <tbody>\n",
       "    <tr>\n",
       "      <th>5</th>\n",
       "      <td>40.000000</td>\n",
       "      <td>50.000000</td>\n",
       "      <td>-120.000000</td>\n",
       "      <td>-110.000000</td>\n",
       "      <td>702</td>\n",
       "    </tr>\n",
       "    <tr>\n",
       "      <th>4</th>\n",
       "      <td>42.720538</td>\n",
       "      <td>45.568574</td>\n",
       "      <td>-116.769471</td>\n",
       "      <td>-113.921435</td>\n",
       "      <td>442</td>\n",
       "    </tr>\n",
       "    <tr>\n",
       "      <th>6</th>\n",
       "      <td>42.989934</td>\n",
       "      <td>43.801065</td>\n",
       "      <td>-116.802840</td>\n",
       "      <td>-115.991709</td>\n",
       "      <td>408</td>\n",
       "    </tr>\n",
       "    <tr>\n",
       "      <th>3</th>\n",
       "      <td>43.430438</td>\n",
       "      <td>43.661451</td>\n",
       "      <td>-116.430537</td>\n",
       "      <td>-116.199524</td>\n",
       "      <td>286</td>\n",
       "    </tr>\n",
       "    <tr>\n",
       "      <th>0</th>\n",
       "      <td>43.555179</td>\n",
       "      <td>43.620973</td>\n",
       "      <td>-116.256801</td>\n",
       "      <td>-116.191007</td>\n",
       "      <td>213</td>\n",
       "    </tr>\n",
       "    <tr>\n",
       "      <th>2</th>\n",
       "      <td>43.603731</td>\n",
       "      <td>43.622470</td>\n",
       "      <td>-116.232895</td>\n",
       "      <td>-116.214157</td>\n",
       "      <td>186</td>\n",
       "    </tr>\n",
       "    <tr>\n",
       "      <th>1</th>\n",
       "      <td>43.606169</td>\n",
       "      <td>43.611506</td>\n",
       "      <td>-116.222636</td>\n",
       "      <td>-116.217299</td>\n",
       "      <td>87</td>\n",
       "    </tr>\n",
       "  </tbody>\n",
       "</table>\n",
       "</div>"
      ],
      "text/plain": [
       "     min_lat    max_lat    min_long    max_long  species_count\n",
       "5  40.000000  50.000000 -120.000000 -110.000000            702\n",
       "4  42.720538  45.568574 -116.769471 -113.921435            442\n",
       "6  42.989934  43.801065 -116.802840 -115.991709            408\n",
       "3  43.430438  43.661451 -116.430537 -116.199524            286\n",
       "0  43.555179  43.620973 -116.256801 -116.191007            213\n",
       "2  43.603731  43.622470 -116.232895 -116.214157            186\n",
       "1  43.606169  43.611506 -116.222636 -116.217299             87"
      ]
     },
     "execution_count": 12,
     "metadata": {},
     "output_type": "execute_result"
    }
   ],
   "source": [
    "# Run query and convert to dataframe\n",
    "\n",
    "input_lat = 43.60948\n",
    "input_long = -116.2176\n",
    "windows = get_lat_long_windows(input_lat, input_long)\n",
    "big_select = multiwindow_species_count_select(windows)\n",
    "id_df = duckdb.sql(big_select).df()\n",
    "id_df.sort_values(by=\"min_lat\")"
   ]
  },
  {
   "cell_type": "code",
   "execution_count": 13,
   "id": "34bb54e9-7eac-4314-acf2-68ccc4d577c3",
   "metadata": {},
   "outputs": [],
   "source": [
    "# Add necessary columns\n",
    "id_df = df_with_area(id_df)\n",
    "id_df = df_with_log10(id_df)"
   ]
  },
  {
   "cell_type": "code",
   "execution_count": 14,
   "id": "61ea5594-2f8a-408b-b51a-0f3a883e8dce",
   "metadata": {},
   "outputs": [
    {
     "name": "stdout",
     "output_type": "stream",
     "text": [
      "                   Results: Ordinary least squares\n",
      "=====================================================================\n",
      "Model:              OLS                 Adj. R-squared:     0.960    \n",
      "Dependent Variable: log10_species_count AIC:                -16.6942 \n",
      "Date:               2023-12-13 11:27    BIC:                -17.4753 \n",
      "No. Observations:   5                   Log-Likelihood:     10.347   \n",
      "Df Model:           1                   F-statistic:        96.46    \n",
      "Df Residuals:       3                   Prob (F-statistic): 0.00224  \n",
      "R-squared:          0.970               Scale:              0.0015556\n",
      "-----------------------------------------------------------------------\n",
      "                 Coef.    Std.Err.      t      P>|t|    [0.025   0.975]\n",
      "-----------------------------------------------------------------------\n",
      "const            2.1532     0.0467   46.1531   0.0000   2.0048   2.3017\n",
      "log10_area_km    0.1126     0.0115    9.8214   0.0022   0.0761   0.1490\n",
      "---------------------------------------------------------------------\n",
      "Omnibus:               nan            Durbin-Watson:            3.190\n",
      "Prob(Omnibus):         nan            Jarque-Bera (JB):         0.609\n",
      "Skew:                  -0.799         Prob(JB):                 0.738\n",
      "Kurtosis:              2.394          Condition No.:            11   \n",
      "=====================================================================\n",
      "Notes:\n",
      "[1] Standard Errors assume that the covariance matrix of the errors\n",
      "is correctly specified.\n"
     ]
    },
    {
     "name": "stderr",
     "output_type": "stream",
     "text": [
      "/Users/annepope/.venv/ebirdy/lib/python3.9/site-packages/statsmodels/stats/stattools.py:74: ValueWarning: omni_normtest is not valid with less than 8 observations; 5 samples were given.\n",
      "  warn(\"omni_normtest is not valid with less than 8 observations; %i \"\n"
     ]
    }
   ],
   "source": [
    "id_x, id_y, slope = best_fit_line(id_df)"
   ]
  },
  {
   "cell_type": "code",
   "execution_count": 15,
   "id": "6e256fc6-2182-4cea-8891-64aec4f7c80f",
   "metadata": {},
   "outputs": [
    {
     "data": {
      "text/plain": [
       "Text(0.5, 0.98, 'Starting in Boise, Idaho')"
      ]
     },
     "execution_count": 15,
     "metadata": {},
     "output_type": "execute_result"
    },
    {
     "data": {
      "image/png": "[encoded data removed]",
      "text/plain": [
       "<Figure size 640x480 with 1 Axes>"
      ]
     },
     "metadata": {},
     "output_type": "display_data"
    }
   ],
   "source": [
    "# Plot\n",
    "fig, ax = plt.subplots()\n",
    "ax.scatter(id_df['log10_area_km'], id_df['log10_species_count'])\n",
    "ax.set_xlabel(\"log10 Area (km^2)\")\n",
    "ax.set_ylabel(\"log10 Species Count\")\n",
    "ax.set_ylim(0, 3)\n",
    "ax.set_xlim(-2, 7)\n",
    "ax.plot(id_x, id_y)\n",
    "ax.text(1, 1, f\"{slope:.2f}\")\n",
    "fig.suptitle(\"Starting in Boise, Idaho\")"
   ]
  },
  {
   "cell_type": "markdown",
   "id": "9d6bf9cc-b689-42b8-a7d8-6767572ace94",
   "metadata": {},
   "source": [
    "### Starting in St. Louis, Missouri"
   ]
  },
  {
   "cell_type": "code",
   "execution_count": 16,
   "id": "a8048e59-f63a-48c7-9ef9-221db109a3fe",
   "metadata": {},
   "outputs": [
    {
     "data": {
      "application/vnd.jupyter.widget-view+json": {
       "model_id": "88387718993e421886649365d802f8d9",
       "version_major": 2,
       "version_minor": 0
      },
      "text/plain": [
       "FloatProgress(value=0.0, layout=Layout(width='auto'), style=ProgressStyle(bar_color='black'))"
      ]
     },
     "metadata": {},
     "output_type": "display_data"
    },
    {
     "data": {
      "text/html": [
       "<div>\n",
       "<style scoped>\n",
       "    .dataframe tbody tr th:only-of-type {\n",
       "        vertical-align: middle;\n",
       "    }\n",
       "\n",
       "    .dataframe tbody tr th {\n",
       "        vertical-align: top;\n",
       "    }\n",
       "\n",
       "    .dataframe thead th {\n",
       "        text-align: right;\n",
       "    }\n",
       "</style>\n",
       "<table border=\"1\" class=\"dataframe\">\n",
       "  <thead>\n",
       "    <tr style=\"text-align: right;\">\n",
       "      <th></th>\n",
       "      <th>min_lat</th>\n",
       "      <th>max_lat</th>\n",
       "      <th>min_long</th>\n",
       "      <th>max_long</th>\n",
       "      <th>species_count</th>\n",
       "    </tr>\n",
       "  </thead>\n",
       "  <tbody>\n",
       "    <tr>\n",
       "      <th>2</th>\n",
       "      <td>30.000000</td>\n",
       "      <td>40.000000</td>\n",
       "      <td>-100.000000</td>\n",
       "      <td>-90.000000</td>\n",
       "      <td>796</td>\n",
       "    </tr>\n",
       "    <tr>\n",
       "      <th>3</th>\n",
       "      <td>37.024466</td>\n",
       "      <td>39.872502</td>\n",
       "      <td>-91.137148</td>\n",
       "      <td>-88.289112</td>\n",
       "      <td>479</td>\n",
       "    </tr>\n",
       "    <tr>\n",
       "      <th>6</th>\n",
       "      <td>38.123149</td>\n",
       "      <td>38.934280</td>\n",
       "      <td>-90.846653</td>\n",
       "      <td>-90.035522</td>\n",
       "      <td>440</td>\n",
       "    </tr>\n",
       "    <tr>\n",
       "      <th>1</th>\n",
       "      <td>38.554887</td>\n",
       "      <td>38.620680</td>\n",
       "      <td>-90.268438</td>\n",
       "      <td>-90.202645</td>\n",
       "      <td>243</td>\n",
       "    </tr>\n",
       "    <tr>\n",
       "      <th>4</th>\n",
       "      <td>38.579166</td>\n",
       "      <td>38.810179</td>\n",
       "      <td>-90.326071</td>\n",
       "      <td>-90.095058</td>\n",
       "      <td>308</td>\n",
       "    </tr>\n",
       "    <tr>\n",
       "      <th>5</th>\n",
       "      <td>38.600639</td>\n",
       "      <td>38.619377</td>\n",
       "      <td>-90.261785</td>\n",
       "      <td>-90.243047</td>\n",
       "      <td>211</td>\n",
       "    </tr>\n",
       "    <tr>\n",
       "      <th>7</th>\n",
       "      <td>38.605682</td>\n",
       "      <td>38.611019</td>\n",
       "      <td>-90.264931</td>\n",
       "      <td>-90.259594</td>\n",
       "      <td>108</td>\n",
       "    </tr>\n",
       "    <tr>\n",
       "      <th>0</th>\n",
       "      <td>38.608781</td>\n",
       "      <td>38.610301</td>\n",
       "      <td>-90.261440</td>\n",
       "      <td>-90.259920</td>\n",
       "      <td>72</td>\n",
       "    </tr>\n",
       "  </tbody>\n",
       "</table>\n",
       "</div>"
      ],
      "text/plain": [
       "     min_lat    max_lat    min_long   max_long  species_count\n",
       "2  30.000000  40.000000 -100.000000 -90.000000            796\n",
       "3  37.024466  39.872502  -91.137148 -88.289112            479\n",
       "6  38.123149  38.934280  -90.846653 -90.035522            440\n",
       "1  38.554887  38.620680  -90.268438 -90.202645            243\n",
       "4  38.579166  38.810179  -90.326071 -90.095058            308\n",
       "5  38.600639  38.619377  -90.261785 -90.243047            211\n",
       "7  38.605682  38.611019  -90.264931 -90.259594            108\n",
       "0  38.608781  38.610301  -90.261440 -90.259920             72"
      ]
     },
     "execution_count": 16,
     "metadata": {},
     "output_type": "execute_result"
    }
   ],
   "source": [
    " # Run query and convert to dataframe\n",
    "\n",
    "input_lat = 38.60988\n",
    "input_long = -90.26047\n",
    "windows = get_lat_long_windows(input_lat, input_long)\n",
    "big_select = multiwindow_species_count_select(windows)\n",
    "mo_df = duckdb.sql(big_select).df()\n",
    "mo_df.sort_values(by=\"min_lat\")"
   ]
  },
  {
   "cell_type": "code",
   "execution_count": 17,
   "id": "6a346285-dce7-469a-8207-781f7eee9c93",
   "metadata": {},
   "outputs": [],
   "source": [
    "# Add necessary columns\n",
    "mo_df = df_with_area(mo_df)\n",
    "mo_df = df_with_log10(mo_df)"
   ]
  },
  {
   "cell_type": "code",
   "execution_count": 18,
   "id": "7306bcf3-96e1-40d3-a1fc-9291e6c168bf",
   "metadata": {},
   "outputs": [
    {
     "name": "stdout",
     "output_type": "stream",
     "text": [
      "                   Results: Ordinary least squares\n",
      "=====================================================================\n",
      "Model:              OLS                 Adj. R-squared:     0.956    \n",
      "Dependent Variable: log10_species_count AIC:                -18.6047 \n",
      "Date:               2023-12-13 11:28    BIC:                -19.0212 \n",
      "No. Observations:   6                   Log-Likelihood:     11.302   \n",
      "Df Model:           1                   F-statistic:        108.4    \n",
      "Df Residuals:       4                   Prob (F-statistic): 0.000481 \n",
      "R-squared:          0.964               Scale:              0.0020297\n",
      "-----------------------------------------------------------------------\n",
      "                 Coef.    Std.Err.      t      P>|t|    [0.025   0.975]\n",
      "-----------------------------------------------------------------------\n",
      "const            2.2362     0.0370   60.4270   0.0000   2.1335   2.3390\n",
      "log10_area_km    0.1025     0.0098   10.4102   0.0005   0.0752   0.1298\n",
      "---------------------------------------------------------------------\n",
      "Omnibus:               nan            Durbin-Watson:            2.650\n",
      "Prob(Omnibus):         nan            Jarque-Bera (JB):         0.445\n",
      "Skew:                  -0.171         Prob(JB):                 0.801\n",
      "Kurtosis:              1.710          Condition No.:            8    \n",
      "=====================================================================\n",
      "Notes:\n",
      "[1] Standard Errors assume that the covariance matrix of the errors\n",
      "is correctly specified.\n"
     ]
    },
    {
     "name": "stderr",
     "output_type": "stream",
     "text": [
      "/Users/annepope/.venv/ebirdy/lib/python3.9/site-packages/statsmodels/stats/stattools.py:74: ValueWarning: omni_normtest is not valid with less than 8 observations; 6 samples were given.\n",
      "  warn(\"omni_normtest is not valid with less than 8 observations; %i \"\n"
     ]
    }
   ],
   "source": [
    "mo_x, mo_y, slope = best_fit_line(mo_df)"
   ]
  },
  {
   "cell_type": "code",
   "execution_count": 19,
   "id": "fc0e267f-2128-4d3d-889c-2af963983eca",
   "metadata": {},
   "outputs": [
    {
     "data": {
      "text/plain": [
       "Text(0.5, 0.98, 'Starting in St. Louis, Missouri')"
      ]
     },
     "execution_count": 19,
     "metadata": {},
     "output_type": "execute_result"
    },
    {
     "data": {
      "image/png": "[encoded data removed]",
      "text/plain": [
       "<Figure size 640x480 with 1 Axes>"
      ]
     },
     "metadata": {},
     "output_type": "display_data"
    }
   ],
   "source": [
    "# Plot\n",
    "fig, ax = plt.subplots()\n",
    "ax.scatter(mo_df['log10_area_km'], mo_df['log10_species_count'])\n",
    "ax.set_xlabel(\"log10 Area (km^2)\")\n",
    "ax.set_ylabel(\"log10 Species Count\")\n",
    "ax.set_ylim(0, 3)\n",
    "ax.set_xlim(-2, 7)\n",
    "ax.plot(mo_x, mo_y)\n",
    "ax.text(1, 1, f\"{slope:.2f}\")\n",
    "fig.suptitle(\"Starting in St. Louis, Missouri\")"
   ]
  },
  {
   "cell_type": "markdown",
   "id": "3e0b69a0-812c-455c-b75b-5c9fd52700d5",
   "metadata": {},
   "source": [
    "### All areas grouped"
   ]
  },
  {
   "cell_type": "code",
   "execution_count": 42,
   "id": "5822f971-4537-41ce-b890-3330c1b981aa",
   "metadata": {},
   "outputs": [
    {
     "name": "stdout",
     "output_type": "stream",
     "text": [
      "                   Results: Ordinary least squares\n",
      "=====================================================================\n",
      "Model:              OLS                 Adj. R-squared:     0.951    \n",
      "Dependent Variable: log10_species_count AIC:                -71.9322 \n",
      "Date:               2023-12-13 14:51    BIC:                -69.7501 \n",
      "No. Observations:   22                  Log-Likelihood:     37.966   \n",
      "Df Model:           1                   F-statistic:        405.9    \n",
      "Df Residuals:       20                  Prob (F-statistic): 9.39e-15 \n",
      "R-squared:          0.953               Scale:              0.0020416\n",
      "-----------------------------------------------------------------------\n",
      "                Coef.    Std.Err.      t       P>|t|    [0.025   0.975]\n",
      "-----------------------------------------------------------------------\n",
      "const           2.2007     0.0216   101.7813   0.0000   2.1556   2.2458\n",
      "log10_area_km   0.1115     0.0055    20.1468   0.0000   0.0999   0.1230\n",
      "---------------------------------------------------------------------\n",
      "Omnibus:               0.161          Durbin-Watson:            1.492\n",
      "Prob(Omnibus):         0.922          Jarque-Bera (JB):         0.282\n",
      "Skew:                  -0.173         Prob(JB):                 0.869\n",
      "Kurtosis:              2.566          Condition No.:            9    \n",
      "=====================================================================\n",
      "Notes:\n",
      "[1] Standard Errors assume that the covariance matrix of the errors\n",
      "is correctly specified.\n"
     ]
    }
   ],
   "source": [
    "new_df = pd.concat([id_df, tx_df, vt_df, mo_df])\n",
    "total_x, total_y, slope = best_fit_line(new_df)"
   ]
  },
  {
   "cell_type": "code",
   "execution_count": 45,
   "id": "b8f8d286-3bf0-4357-bb3f-f0729ce15441",
   "metadata": {},
   "outputs": [
    {
     "data": {
      "text/plain": [
       "Text(0.5, 0.98, 'Contiguous Land: Bird Species Counts vs. Area')"
      ]
     },
     "execution_count": 45,
     "metadata": {},
     "output_type": "execute_result"
    },
    {
     "data": {
      "image/png": "[encoded data removed]",
      "text/plain": [
       "<Figure size 640x480 with 1 Axes>"
      ]
     },
     "metadata": {},
     "output_type": "display_data"
    }
   ],
   "source": [
    "# Plot\n",
    "fig, ax = plt.subplots()\n",
    "ax.scatter(id_df['log10_area_km'], id_df['log10_species_count'], label=\"Boise, Idaho\")\n",
    "ax.scatter(tx_df['log10_area_km'], tx_df['log10_species_count'], label=\"El Paso, Texas\")\n",
    "ax.scatter(vt_df['log10_area_km'], vt_df['log10_species_count'], label=\"Burlington, Vermont\")\n",
    "ax.scatter(mo_df['log10_area_km'], mo_df['log10_species_count'], label=\"St. Louis, Missouri\")\n",
    "ax.set_xlabel(\"log10 Area (km^2)\")\n",
    "ax.set_ylabel(\"log10 Species Count\")\n",
    "ax.set_ylim(0, 3)\n",
    "ax.set_xlim(-2, 7)\n",
    "ax.plot(total_x, total_y, color='black', label=f\"{slope:.2f}\")\n",
    "# ax.text(1, 1, f\"{slope:.2f}\")\n",
    "# fig.legend(loc='center right')\n",
    "fig.legend(bbox_to_anchor=(0.8, 0.4))\n",
    "fig.suptitle(\"Contiguous Land: Bird Species Counts vs. Area\")"
   ]
  },
  {
   "cell_type": "code",
   "execution_count": 22,
   "id": "a60761be-439d-4692-af54-709af9494713",
   "metadata": {},
   "outputs": [
    {
     "data": {
      "text/plain": [
       "Text(0.5, 0.98, 'Species Counts vs. Area')"
      ]
     },
     "execution_count": 22,
     "metadata": {},
     "output_type": "execute_result"
    },
    {
     "data": {
      "image/png": "[encoded data removed]",
      "text/plain": [
       "<Figure size 640x480 with 1 Axes>"
      ]
     },
     "metadata": {},
     "output_type": "display_data"
    }
   ],
   "source": [
    "# Plot\n",
    "fig, ax = plt.subplots()\n",
    "ax.set_yscale('log')\n",
    "ax.set_xscale('log')\n",
    "ax.scatter(id_df['area_km'], id_df['species_count'], label=\"Boise, Idaho\")\n",
    "ax.scatter(tx_df['area_km'], tx_df['species_count'], label=\"El Paso, Texas\")\n",
    "ax.scatter(vt_df['area_km'], vt_df['species_count'], label=\"Burlington, Vermont\")\n",
    "ax.scatter(mo_df['area_km'], mo_df['species_count'], label=\"St. Louis, Missouri\")\n",
    "ax.set_xlabel(\"log10 Area (km^2)\")\n",
    "ax.set_ylabel(\"log10 Species Count\")\n",
    "fig.legend(bbox_to_anchor=(0.8, 0.4), title=\"Area Centered Around\")\n",
    "fig.suptitle(\"Species Counts vs. Area\")"
   ]
  },
  {
   "cell_type": "markdown",
   "id": "b9162c2e-5f21-42a4-9e91-f344f1ca82eb",
   "metadata": {},
   "source": [
    "## Islands"
   ]
  },
  {
   "cell_type": "code",
   "execution_count": 23,
   "id": "39b14c90-e13e-4eb1-a6d4-8818cadf4dca",
   "metadata": {},
   "outputs": [],
   "source": [
    "\"\"\"Create and apply a water body mask\n",
    "Mostly taken from\n",
    "https://github.com/ASFHyP3/hyp3-isce2/blob/6216fc00268246e1f10e9e3f6f5c18923b97cfc7/src/hyp3_isce2/water_mask.py#L48\n",
    "conda requirements:\n",
    "mamba install -c conda-forge gdal pyproj shapely geopandas-base\n",
    "\"\"\"\n",
    "import subprocess\n",
    "import tempfile\n",
    "from pathlib import Path\n",
    "\n",
    "import geopandas as gpd\n",
    "from osgeo import gdal\n",
    "from shapely import geometry"
   ]
  },
  {
   "cell_type": "code",
   "execution_count": 24,
   "id": "3b188122-f182-42f3-9ad2-9390cfd23469",
   "metadata": {},
   "outputs": [],
   "source": [
    "def calculate_land_percentage(\n",
    "    input_bbox: tuple[float, float, float, float],\n",
    "    shapefile_path: str = \"data/hyp3_water_mask_20220912.shp\",\n",
    ") -> float:\n",
    "    \"\"\"\n",
    "    Calculate the percentage of land in a given region.\n",
    "    Parameters\n",
    "    ----------\n",
    "    region_extent : tuple\n",
    "        The extent of the region as a tuple (minx, miny, maxx, maxy).\n",
    "    shapefile_path : str\n",
    "        Path to the full water mask shapefile.\n",
    "    Returns\n",
    "    -------\n",
    "    float\n",
    "        The percentage of land in the given region.\n",
    "    \"\"\"\n",
    "\n",
    "    with tempfile.TemporaryDirectory() as temp_dir:\n",
    "        # Subset with ogr2ogr\n",
    "        temp_file_subset = str(Path(temp_dir) / \"mask.shp\")\n",
    "        # TODO: might have to do extra options if our bbox crosses -180 degrees\n",
    "        # There are options in gdal to do this...\n",
    "        # If might just be adding this to the `ogr2ogr` command in `_clip_vector`\n",
    "        # cmd = ['ogr2ogr', '-wrapdateline', '-datelineoffset', '20',\n",
    "        _clip_vector(shapefile_path, temp_file_subset, input_bbox)\n",
    "\n",
    "        # Read the shapefile into a GeoDataframe\n",
    "        gdf = gpd.read_file(temp_file_subset)\n",
    "\n",
    "    # Create a polygon from the region extent\n",
    "    region_polygon = geometry.box(*input_bbox)\n",
    "\n",
    "    # Calculate total area of the region\n",
    "    total_area = region_polygon.area\n",
    "\n",
    "    # Clip the GeoDataFrame to the region\n",
    "    clipped_gdf = gdf.clip(region_polygon)\n",
    "\n",
    "    # Calculate the sum of areas of all land polygons\n",
    "    land_area = clipped_gdf.area.sum()\n",
    "\n",
    "    # Calculate the percentage\n",
    "    land_percentage = (land_area / total_area) * 100\n",
    "\n",
    "    return land_percentage\n",
    "\n",
    "\n",
    "\n",
    "def _clip_vector(\n",
    "    input_filename: str, output_filename: str, bbox: tuple[float, float, float, float]\n",
    "):\n",
    "    \"\"\"Clip a large shapefile to a (left, bottom, right, top) bounding box.\"\"\"\n",
    "    cmd = [\n",
    "        \"ogr2ogr\",\n",
    "        str(output_filename),\n",
    "        str(input_filename),\n",
    "        \"-clipsrc\",\n",
    "        *list(map(str, bbox)),\n",
    "    ]\n",
    "    subprocess.run(cmd, check=True)\n",
    "\n",
    "def calculate_land_area(\n",
    "    input_bbox: tuple[float, float, float, float],\n",
    "    shapefile_path: str = \"data/hyp3_water_mask_20220912.shp\",\n",
    ") -> float:\n",
    "    \"\"\"\n",
    "    Calculate the percentage of land in a given region.\n",
    "    Parameters\n",
    "    ----------\n",
    "    region_extent : tuple\n",
    "        The extent of the region as a tuple (minx, miny, maxx, maxy).\n",
    "    shapefile_path : str\n",
    "        Path to the full water mask shapefile.\n",
    "    Returns\n",
    "    -------\n",
    "    float\n",
    "        The percentage of land in the given region.\n",
    "    \"\"\"\n",
    "    # Create a polygon from the region extent\n",
    "    region_polygon = geometry.box(*input_bbox)\n",
    "\n",
    "    # Calculate total area of the region\n",
    "    # total_area = region_polygon.area\n",
    "    total_area = geod.geometry_area_perimeter(region_polygon)[0]/(1000*1000)\n",
    "    print(\"===========\")\n",
    "    print(\"calc total area in km2\", total_area)\n",
    "    \n",
    "    with tempfile.TemporaryDirectory() as temp_dir:\n",
    "        # Subset with ogr2ogr\n",
    "        temp_file_subset = str(Path(temp_dir) / \"mask.shp\")\n",
    "        # TODO: might have to do extra options if our bbox crosses -180 degrees\n",
    "        # There are options in gdal to do this...\n",
    "        # If might just be adding this to the `ogr2ogr` command in `_clip_vector`\n",
    "        # cmd = ['ogr2ogr', '-wrapdateline', '-datelineoffset', '20',\n",
    "        _clip_vector(shapefile_path, temp_file_subset, input_bbox)\n",
    "\n",
    "        # Read the shapefile into a GeoDataframe\n",
    "        gdf = gpd.read_file(temp_file_subset)\n",
    "\n",
    "    # Clip the GeoDataFrame to the region\n",
    "    clipped_gdf = gdf.clip(region_polygon)\n",
    "\n",
    "    # Calculate the sum of areas of all land polygons\n",
    "    # land_area = clipped_gdf.area.sum()\n",
    "    def x(polyg):\n",
    "        return geod.geometry_area_perimeter(polyg)[0]/(1000*1000) * -1\n",
    "    \n",
    "    land_area = clipped_gdf['geometry'].map(x).sum()\n",
    "    return land_area\n",
    "\n",
    "\n",
    "def island_area_km(b):\n",
    "    \"\"\" return the area on earth of the given lat/long-defined polygon.\n",
    "    The projection is defined above in settings.\n",
    "    geod.geometry_area_perimeter returns a tuple of (area, perimeter)\n",
    "    where area is in m^2. We convert to km^2.\n",
    "    \"\"\"\n",
    "    sp = box(*b)\n",
    "    area = geod.geometry_area_perimeter(sp)[0]/(1000*1000)\n",
    "    return calculate_land_area(b)\n",
    "\n",
    "def df_with_island_area(df):\n",
    "    \"\"\"\n",
    "    Add area calculations to the dataframe.\n",
    "    \"\"\"\n",
    "    df['coord_tuple'] = list(zip(df['max_long'], df['max_lat'], df['min_long'], df['min_lat']))\n",
    "    df['island_area_km'] = df['coord_tuple'].map(island_area_km)\n",
    "    return df\n"
   ]
  },
  {
   "cell_type": "markdown",
   "id": "29e800d2-db3d-4323-ac6a-676ecd9a0857",
   "metadata": {},
   "source": [
    "### Alaska Islands"
   ]
  },
  {
   "cell_type": "code",
   "execution_count": 25,
   "id": "14a5afa0-44ee-4cde-814d-4d322145bb95",
   "metadata": {},
   "outputs": [
    {
     "data": {
      "application/vnd.jupyter.widget-view+json": {
       "model_id": "09169828372c428dba5225e25aa30a2d",
       "version_major": 2,
       "version_minor": 0
      },
      "text/plain": [
       "FloatProgress(value=0.0, layout=Layout(width='auto'), style=ProgressStyle(bar_color='black'))"
      ]
     },
     "metadata": {},
     "output_type": "display_data"
    },
    {
     "data": {
      "text/html": [
       "<div>\n",
       "<style scoped>\n",
       "    .dataframe tbody tr th:only-of-type {\n",
       "        vertical-align: middle;\n",
       "    }\n",
       "\n",
       "    .dataframe tbody tr th {\n",
       "        vertical-align: top;\n",
       "    }\n",
       "\n",
       "    .dataframe thead th {\n",
       "        text-align: right;\n",
       "    }\n",
       "</style>\n",
       "<table border=\"1\" class=\"dataframe\">\n",
       "  <thead>\n",
       "    <tr style=\"text-align: right;\">\n",
       "      <th></th>\n",
       "      <th>min_lat</th>\n",
       "      <th>max_lat</th>\n",
       "      <th>min_long</th>\n",
       "      <th>max_long</th>\n",
       "      <th>species_count</th>\n",
       "    </tr>\n",
       "  </thead>\n",
       "  <tbody>\n",
       "    <tr>\n",
       "      <th>0</th>\n",
       "      <td>50.000000</td>\n",
       "      <td>60.000000</td>\n",
       "      <td>-170.000000</td>\n",
       "      <td>-160.00000</td>\n",
       "      <td>245</td>\n",
       "    </tr>\n",
       "    <tr>\n",
       "      <th>2</th>\n",
       "      <td>51.264646</td>\n",
       "      <td>54.112682</td>\n",
       "      <td>-168.034116</td>\n",
       "      <td>-165.18608</td>\n",
       "      <td>142</td>\n",
       "    </tr>\n",
       "    <tr>\n",
       "      <th>1</th>\n",
       "      <td>53.534635</td>\n",
       "      <td>54.345766</td>\n",
       "      <td>-167.092951</td>\n",
       "      <td>-166.28182</td>\n",
       "      <td>138</td>\n",
       "    </tr>\n",
       "  </tbody>\n",
       "</table>\n",
       "</div>"
      ],
      "text/plain": [
       "     min_lat    max_lat    min_long   max_long  species_count\n",
       "0  50.000000  60.000000 -170.000000 -160.00000            245\n",
       "2  51.264646  54.112682 -168.034116 -165.18608            142\n",
       "1  53.534635  54.345766 -167.092951 -166.28182            138"
      ]
     },
     "execution_count": 25,
     "metadata": {},
     "output_type": "execute_result"
    }
   ],
   "source": [
    "# Run query and convert to dataframe\n",
    "input_lat = 53.7890849\n",
    "input_long = -166.7241365\n",
    "windows = get_lat_long_windows(input_lat, input_long)\n",
    "big_select = multiwindow_species_count_select(windows)\n",
    "ak_df = duckdb.sql(big_select).df()\n",
    "ak_df.sort_values(by=\"min_lat\")"
   ]
  },
  {
   "cell_type": "code",
   "execution_count": 26,
   "id": "01b85c8b-78c8-4cba-9169-677ffbf778aa",
   "metadata": {},
   "outputs": [
    {
     "data": {
      "text/html": [
       "<div>\n",
       "<style scoped>\n",
       "    .dataframe tbody tr th:only-of-type {\n",
       "        vertical-align: middle;\n",
       "    }\n",
       "\n",
       "    .dataframe tbody tr th {\n",
       "        vertical-align: top;\n",
       "    }\n",
       "\n",
       "    .dataframe thead th {\n",
       "        text-align: right;\n",
       "    }\n",
       "</style>\n",
       "<table border=\"1\" class=\"dataframe\">\n",
       "  <thead>\n",
       "    <tr style=\"text-align: right;\">\n",
       "      <th></th>\n",
       "      <th>min_lat</th>\n",
       "      <th>max_lat</th>\n",
       "      <th>min_long</th>\n",
       "      <th>max_long</th>\n",
       "      <th>species_count</th>\n",
       "    </tr>\n",
       "  </thead>\n",
       "  <tbody>\n",
       "    <tr>\n",
       "      <th>0</th>\n",
       "      <td>50.000000</td>\n",
       "      <td>60.000000</td>\n",
       "      <td>-170.000000</td>\n",
       "      <td>-160.00000</td>\n",
       "      <td>245</td>\n",
       "    </tr>\n",
       "    <tr>\n",
       "      <th>1</th>\n",
       "      <td>53.534635</td>\n",
       "      <td>54.345766</td>\n",
       "      <td>-167.092951</td>\n",
       "      <td>-166.28182</td>\n",
       "      <td>138</td>\n",
       "    </tr>\n",
       "    <tr>\n",
       "      <th>2</th>\n",
       "      <td>51.264646</td>\n",
       "      <td>54.112682</td>\n",
       "      <td>-168.034116</td>\n",
       "      <td>-165.18608</td>\n",
       "      <td>142</td>\n",
       "    </tr>\n",
       "  </tbody>\n",
       "</table>\n",
       "</div>"
      ],
      "text/plain": [
       "     min_lat    max_lat    min_long   max_long  species_count\n",
       "0  50.000000  60.000000 -170.000000 -160.00000            245\n",
       "1  53.534635  54.345766 -167.092951 -166.28182            138\n",
       "2  51.264646  54.112682 -168.034116 -165.18608            142"
      ]
     },
     "execution_count": 26,
     "metadata": {},
     "output_type": "execute_result"
    }
   ],
   "source": [
    "ak_df"
   ]
  },
  {
   "cell_type": "code",
   "execution_count": 27,
   "id": "93a932cb-090d-424b-9428-e0b7c9ea873b",
   "metadata": {},
   "outputs": [
    {
     "name": "stdout",
     "output_type": "stream",
     "text": [
      "===========\n",
      "calc total area in km2 709651.9467441719\n"
     ]
    },
    {
     "name": "stderr",
     "output_type": "stream",
     "text": [
      "Warning 1: Value 20154740.0899999999 of field area of feature 0 not successfully written. Possibly due to too larger number with respect to field width\n"
     ]
    },
    {
     "name": "stdout",
     "output_type": "stream",
     "text": [
      "===========\n",
      "calc total area in km2 4808.909221301453\n",
      "===========\n",
      "calc total area in km2 61017.26300788062\n"
     ]
    }
   ],
   "source": [
    "\n",
    "\n",
    "# Add necessary columns\n",
    "ak_df = df_with_area(ak_df)\n",
    "ak_df = df_with_island_area(ak_df)\n",
    "ak_df = df_with_log10(ak_df)\n",
    "ak_df['log10_island_area_km'] = np.log10(ak_df['island_area_km'])\n"
   ]
  },
  {
   "cell_type": "code",
   "execution_count": 28,
   "id": "8e53a37c-a8cd-460d-a56e-3514a220970a",
   "metadata": {},
   "outputs": [
    {
     "data": {
      "text/plain": [
       "Text(0.5, 0.98, 'Starting in Alaska Islands')"
      ]
     },
     "execution_count": 28,
     "metadata": {},
     "output_type": "execute_result"
    },
    {
     "data": {
      "image/png": "[encoded data removed]",
      "text/plain": [
       "<Figure size 640x480 with 1 Axes>"
      ]
     },
     "metadata": {},
     "output_type": "display_data"
    }
   ],
   "source": [
    "# Plot\n",
    "fig, ax = plt.subplots()\n",
    "ax.scatter(ak_df['log10_area_km'], ak_df['log10_species_count'], color='tab:orange')\n",
    "ax.scatter(ak_df['log10_island_area_km'], ak_df['log10_species_count'], color='tab:blue')\n",
    "ax.set_xlabel(\"log10 Area (km^2)\")\n",
    "ax.set_ylabel(\"log10 Species Count\")\n",
    "ax.set_ylim(0, 3)\n",
    "ax.set_xlim(-2, 7)\n",
    "# ax.plot(mo_x, mo_y)\n",
    "# ax.text(1, 1, f\"{slope:.2f}\")\n",
    "fig.suptitle(\"Starting in Alaska Islands\")"
   ]
  },
  {
   "cell_type": "markdown",
   "id": "b816d123-9380-424d-90ed-8ec73f590458",
   "metadata": {},
   "source": [
    "### Hawaii"
   ]
  },
  {
   "cell_type": "code",
   "execution_count": 29,
   "id": "44f47eda-8384-480f-b3bd-9733a81023cd",
   "metadata": {},
   "outputs": [
    {
     "data": {
      "application/vnd.jupyter.widget-view+json": {
       "model_id": "582cd5c5209842aabbfc471c13ebf321",
       "version_major": 2,
       "version_minor": 0
      },
      "text/plain": [
       "FloatProgress(value=0.0, layout=Layout(width='auto'), style=ProgressStyle(bar_color='black'))"
      ]
     },
     "metadata": {},
     "output_type": "display_data"
    },
    {
     "data": {
      "text/html": [
       "<div>\n",
       "<style scoped>\n",
       "    .dataframe tbody tr th:only-of-type {\n",
       "        vertical-align: middle;\n",
       "    }\n",
       "\n",
       "    .dataframe tbody tr th {\n",
       "        vertical-align: top;\n",
       "    }\n",
       "\n",
       "    .dataframe thead th {\n",
       "        text-align: right;\n",
       "    }\n",
       "</style>\n",
       "<table border=\"1\" class=\"dataframe\">\n",
       "  <thead>\n",
       "    <tr style=\"text-align: right;\">\n",
       "      <th></th>\n",
       "      <th>min_lat</th>\n",
       "      <th>max_lat</th>\n",
       "      <th>min_long</th>\n",
       "      <th>max_long</th>\n",
       "      <th>species_count</th>\n",
       "    </tr>\n",
       "  </thead>\n",
       "  <tbody>\n",
       "    <tr>\n",
       "      <th>0</th>\n",
       "      <td>21.119657</td>\n",
       "      <td>21.185450</td>\n",
       "      <td>-157.048661</td>\n",
       "      <td>-156.982867</td>\n",
       "      <td>31</td>\n",
       "    </tr>\n",
       "    <tr>\n",
       "      <th>1</th>\n",
       "      <td>19.936251</td>\n",
       "      <td>22.784287</td>\n",
       "      <td>-159.490009</td>\n",
       "      <td>-156.641973</td>\n",
       "      <td>219</td>\n",
       "    </tr>\n",
       "    <tr>\n",
       "      <th>2</th>\n",
       "      <td>21.022180</td>\n",
       "      <td>21.253193</td>\n",
       "      <td>-157.088820</td>\n",
       "      <td>-156.857807</td>\n",
       "      <td>59</td>\n",
       "    </tr>\n",
       "    <tr>\n",
       "      <th>3</th>\n",
       "      <td>21.089402</td>\n",
       "      <td>21.900532</td>\n",
       "      <td>-157.359381</td>\n",
       "      <td>-156.548250</td>\n",
       "      <td>60</td>\n",
       "    </tr>\n",
       "    <tr>\n",
       "      <th>4</th>\n",
       "      <td>20.000000</td>\n",
       "      <td>30.000000</td>\n",
       "      <td>-160.000000</td>\n",
       "      <td>-150.000000</td>\n",
       "      <td>261</td>\n",
       "    </tr>\n",
       "  </tbody>\n",
       "</table>\n",
       "</div>"
      ],
      "text/plain": [
       "     min_lat    max_lat    min_long    max_long  species_count\n",
       "0  21.119657  21.185450 -157.048661 -156.982867             31\n",
       "1  19.936251  22.784287 -159.490009 -156.641973            219\n",
       "2  21.022180  21.253193 -157.088820 -156.857807             59\n",
       "3  21.089402  21.900532 -157.359381 -156.548250             60\n",
       "4  20.000000  30.000000 -160.000000 -150.000000            261"
      ]
     },
     "execution_count": 29,
     "metadata": {},
     "output_type": "execute_result"
    }
   ],
   "source": [
    "# Run query and convert to dataframe\n",
    "input_lat = 21.1751609\n",
    "input_long = -157.0094246\n",
    "windows = get_lat_long_windows(input_lat, input_long)\n",
    "big_select = multiwindow_species_count_select(windows)\n",
    "hi_df = duckdb.sql(big_select).df()\n",
    "hi_df.sort_values(by=\"min_lat\")\n",
    "hi_df"
   ]
  },
  {
   "cell_type": "code",
   "execution_count": 30,
   "id": "15c00dd0-709a-4f76-bade-06bcaa64d60e",
   "metadata": {},
   "outputs": [
    {
     "name": "stdout",
     "output_type": "stream",
     "text": [
      "===========\n",
      "calc total area in km2 49.7797299270401\n",
      "===========\n",
      "calc total area in km2 93151.89598724426\n",
      "===========\n",
      "calc total area in km2 613.7680260044098\n",
      "===========\n",
      "calc total area in km2 7548.869096065888\n",
      "===========\n",
      "calc total area in km2 1118167.2993485336\n"
     ]
    }
   ],
   "source": [
    "# Add necessary columns\n",
    "hi_df = df_with_area(hi_df)\n",
    "hi_df = df_with_island_area(hi_df)\n",
    "hi_df = df_with_log10(hi_df)\n",
    "hi_df['log10_island_area_km'] = np.log10(hi_df['island_area_km'])"
   ]
  },
  {
   "cell_type": "code",
   "execution_count": 31,
   "id": "007d440c-6d7d-4444-bcf6-439ec8f66d9b",
   "metadata": {},
   "outputs": [
    {
     "data": {
      "text/plain": [
       "Text(0.5, 0.98, 'Starting in Hawaiian Islands')"
      ]
     },
     "execution_count": 31,
     "metadata": {},
     "output_type": "execute_result"
    },
    {
     "data": {
      "image/png": "[encoded data removed]",
      "text/plain": [
       "<Figure size 640x480 with 1 Axes>"
      ]
     },
     "metadata": {},
     "output_type": "display_data"
    }
   ],
   "source": [
    "# Plot\n",
    "fig, ax = plt.subplots()\n",
    "ax.scatter(hi_df['log10_area_km'], hi_df['log10_species_count'], color='tab:orange')\n",
    "ax.scatter(hi_df['log10_island_area_km'], hi_df['log10_species_count'], color='tab:blue')\n",
    "ax.set_xlabel(\"log10 Area (km^2)\")\n",
    "ax.set_ylabel(\"log10 Species Count\")\n",
    "ax.set_ylim(0, 3)\n",
    "ax.set_xlim(-2, 7)\n",
    "# ax.plot(mo_x, mo_y)\n",
    "# ax.text(1, 1, f\"{slope:.2f}\")\n",
    "fig.suptitle(\"Starting in Hawaiian Islands\")"
   ]
  },
  {
   "cell_type": "markdown",
   "id": "957ba15f-6b2f-4e06-ac7e-61388027b46c",
   "metadata": {},
   "source": [
    "### Florida Keys"
   ]
  },
  {
   "cell_type": "code",
   "execution_count": 32,
   "id": "1a01a23a-0892-4dcc-8cfb-761b63b88f2c",
   "metadata": {},
   "outputs": [
    {
     "data": {
      "application/vnd.jupyter.widget-view+json": {
       "model_id": "9b51e9ef755b41f0bf1ebba062182555",
       "version_major": 2,
       "version_minor": 0
      },
      "text/plain": [
       "FloatProgress(value=0.0, layout=Layout(width='auto'), style=ProgressStyle(bar_color='black'))"
      ]
     },
     "metadata": {},
     "output_type": "display_data"
    },
    {
     "name": "stdout",
     "output_type": "stream",
     "text": [
      "===========\n",
      "calc total area in km2 7372.5377958684085\n"
     ]
    },
    {
     "name": "stderr",
     "output_type": "stream",
     "text": [
      "Warning 1: Value 20154740.0899999999 of field area of feature 0 not successfully written. Possibly due to too larger number with respect to field width\n"
     ]
    },
    {
     "name": "stdout",
     "output_type": "stream",
     "text": [
      "===========\n",
      "calc total area in km2 48.54442162051773\n",
      "===========\n",
      "calc total area in km2 598.6502091228333\n",
      "===========\n",
      "calc total area in km2 3.9366869350881575\n",
      "===========\n",
      "calc total area in km2 1118167.2993485336\n"
     ]
    },
    {
     "name": "stderr",
     "output_type": "stream",
     "text": [
      "Warning 1: Value 20154740.0899999999 of field area of feature 0 not successfully written. Possibly due to too larger number with respect to field width\n"
     ]
    },
    {
     "name": "stdout",
     "output_type": "stream",
     "text": [
      "===========\n",
      "calc total area in km2 91268.0175829895\n"
     ]
    },
    {
     "name": "stderr",
     "output_type": "stream",
     "text": [
      "Warning 1: Value 20154740.0899999999 of field area of feature 0 not successfully written. Possibly due to too larger number with respect to field width\n"
     ]
    },
    {
     "data": {
      "text/html": [
       "<div>\n",
       "<style scoped>\n",
       "    .dataframe tbody tr th:only-of-type {\n",
       "        vertical-align: middle;\n",
       "    }\n",
       "\n",
       "    .dataframe tbody tr th {\n",
       "        vertical-align: top;\n",
       "    }\n",
       "\n",
       "    .dataframe thead th {\n",
       "        text-align: right;\n",
       "    }\n",
       "</style>\n",
       "<table border=\"1\" class=\"dataframe\">\n",
       "  <thead>\n",
       "    <tr style=\"text-align: right;\">\n",
       "      <th></th>\n",
       "      <th>min_lat</th>\n",
       "      <th>max_lat</th>\n",
       "      <th>min_long</th>\n",
       "      <th>max_long</th>\n",
       "      <th>species_count</th>\n",
       "      <th>shapely_box</th>\n",
       "      <th>area_km</th>\n",
       "      <th>coord_tuple</th>\n",
       "      <th>island_area_km</th>\n",
       "      <th>log10_area_km</th>\n",
       "      <th>log10_species_count</th>\n",
       "      <th>log10_island_area_km</th>\n",
       "    </tr>\n",
       "  </thead>\n",
       "  <tbody>\n",
       "    <tr>\n",
       "      <th>0</th>\n",
       "      <td>24.333925</td>\n",
       "      <td>25.145056</td>\n",
       "      <td>-81.924214</td>\n",
       "      <td>-81.113083</td>\n",
       "      <td>319</td>\n",
       "      <td>POLYGON ((-81.92421390975841 25.14505575448030...</td>\n",
       "      <td>7.372538e+03</td>\n",
       "      <td>(-81.11308307896873, 25.145055754480303, -81.9...</td>\n",
       "      <td>248.330775</td>\n",
       "      <td>3.867617</td>\n",
       "      <td>2.503791</td>\n",
       "      <td>2.395031</td>\n",
       "    </tr>\n",
       "    <tr>\n",
       "      <th>1</th>\n",
       "      <td>24.606703</td>\n",
       "      <td>24.672496</td>\n",
       "      <td>-81.583720</td>\n",
       "      <td>-81.517927</td>\n",
       "      <td>153</td>\n",
       "      <td>POLYGON ((-81.58371985753845 24.67249592465880...</td>\n",
       "      <td>4.854442e+01</td>\n",
       "      <td>(-81.5179265350727, 24.672495924658808, -81.58...</td>\n",
       "      <td>24.645521</td>\n",
       "      <td>1.686139</td>\n",
       "      <td>2.184691</td>\n",
       "      <td>1.391738</td>\n",
       "    </tr>\n",
       "    <tr>\n",
       "      <th>2</th>\n",
       "      <td>24.487375</td>\n",
       "      <td>24.718388</td>\n",
       "      <td>-81.547578</td>\n",
       "      <td>-81.316565</td>\n",
       "      <td>264</td>\n",
       "      <td>POLYGON ((-81.54757841293556 24.71838779088981...</td>\n",
       "      <td>5.986502e+02</td>\n",
       "      <td>(-81.31656544292724, 24.718387790889818, -81.5...</td>\n",
       "      <td>98.623337</td>\n",
       "      <td>2.777173</td>\n",
       "      <td>2.421604</td>\n",
       "      <td>1.993980</td>\n",
       "    </tr>\n",
       "    <tr>\n",
       "      <th>3</th>\n",
       "      <td>24.659437</td>\n",
       "      <td>24.678175</td>\n",
       "      <td>-81.548534</td>\n",
       "      <td>-81.529796</td>\n",
       "      <td>74</td>\n",
       "      <td>POLYGON ((-81.54853424288396 24.67817545907127...</td>\n",
       "      <td>3.936687e+00</td>\n",
       "      <td>(-81.52979606865536, 24.678175459071273, -81.5...</td>\n",
       "      <td>3.047248</td>\n",
       "      <td>0.595131</td>\n",
       "      <td>1.869232</td>\n",
       "      <td>0.483908</td>\n",
       "    </tr>\n",
       "    <tr>\n",
       "      <th>4</th>\n",
       "      <td>20.000000</td>\n",
       "      <td>30.000000</td>\n",
       "      <td>-90.000000</td>\n",
       "      <td>-80.000000</td>\n",
       "      <td>757</td>\n",
       "      <td>POLYGON ((-90 30, -90 20, -80 20, -80 30, -90 ...</td>\n",
       "      <td>1.118167e+06</td>\n",
       "      <td>(-80.0, 30.0, -90.0, 20.0)</td>\n",
       "      <td>195357.370866</td>\n",
       "      <td>6.048507</td>\n",
       "      <td>2.879096</td>\n",
       "      <td>5.290830</td>\n",
       "    </tr>\n",
       "    <tr>\n",
       "      <th>5</th>\n",
       "      <td>22.784287</td>\n",
       "      <td>25.632323</td>\n",
       "      <td>-82.593040</td>\n",
       "      <td>-79.745004</td>\n",
       "      <td>491</td>\n",
       "      <td>POLYGON ((-82.59304018463826 25.63232281592221...</td>\n",
       "      <td>9.126802e+04</td>\n",
       "      <td>(-79.74500431620245, 25.632322815922215, -82.5...</td>\n",
       "      <td>13813.835143</td>\n",
       "      <td>4.960319</td>\n",
       "      <td>2.691081</td>\n",
       "      <td>4.140314</td>\n",
       "    </tr>\n",
       "  </tbody>\n",
       "</table>\n",
       "</div>"
      ],
      "text/plain": [
       "     min_lat    max_lat   min_long   max_long  species_count  \\\n",
       "0  24.333925  25.145056 -81.924214 -81.113083            319   \n",
       "1  24.606703  24.672496 -81.583720 -81.517927            153   \n",
       "2  24.487375  24.718388 -81.547578 -81.316565            264   \n",
       "3  24.659437  24.678175 -81.548534 -81.529796             74   \n",
       "4  20.000000  30.000000 -90.000000 -80.000000            757   \n",
       "5  22.784287  25.632323 -82.593040 -79.745004            491   \n",
       "\n",
       "                                         shapely_box       area_km  \\\n",
       "0  POLYGON ((-81.92421390975841 25.14505575448030...  7.372538e+03   \n",
       "1  POLYGON ((-81.58371985753845 24.67249592465880...  4.854442e+01   \n",
       "2  POLYGON ((-81.54757841293556 24.71838779088981...  5.986502e+02   \n",
       "3  POLYGON ((-81.54853424288396 24.67817545907127...  3.936687e+00   \n",
       "4  POLYGON ((-90 30, -90 20, -80 20, -80 30, -90 ...  1.118167e+06   \n",
       "5  POLYGON ((-82.59304018463826 25.63232281592221...  9.126802e+04   \n",
       "\n",
       "                                         coord_tuple  island_area_km  \\\n",
       "0  (-81.11308307896873, 25.145055754480303, -81.9...      248.330775   \n",
       "1  (-81.5179265350727, 24.672495924658808, -81.58...       24.645521   \n",
       "2  (-81.31656544292724, 24.718387790889818, -81.5...       98.623337   \n",
       "3  (-81.52979606865536, 24.678175459071273, -81.5...        3.047248   \n",
       "4                         (-80.0, 30.0, -90.0, 20.0)   195357.370866   \n",
       "5  (-79.74500431620245, 25.632322815922215, -82.5...    13813.835143   \n",
       "\n",
       "   log10_area_km  log10_species_count  log10_island_area_km  \n",
       "0       3.867617             2.503791              2.395031  \n",
       "1       1.686139             2.184691              1.391738  \n",
       "2       2.777173             2.421604              1.993980  \n",
       "3       0.595131             1.869232              0.483908  \n",
       "4       6.048507             2.879096              5.290830  \n",
       "5       4.960319             2.691081              4.140314  "
      ]
     },
     "execution_count": 32,
     "metadata": {},
     "output_type": "execute_result"
    }
   ],
   "source": [
    "# Run query and convert to dataframe\n",
    "input_lat = 24.67062\n",
    "input_long = -81.5425833\n",
    "windows = get_lat_long_windows(input_lat, input_long)\n",
    "big_select = multiwindow_species_count_select(windows)\n",
    "fl_df = duckdb.sql(big_select).df()\n",
    "fl_df.sort_values(by=\"min_lat\")\n",
    "\n",
    "# Add necessary columns\n",
    "fl_df = df_with_area(fl_df)\n",
    "fl_df = df_with_island_area(fl_df)\n",
    "fl_df = df_with_log10(fl_df)\n",
    "fl_df['log10_island_area_km'] = np.log10(fl_df['island_area_km'])\n",
    "fl_df"
   ]
  },
  {
   "cell_type": "code",
   "execution_count": 33,
   "id": "1363442a-a4c1-4cc4-afae-ccf2a28ea214",
   "metadata": {},
   "outputs": [
    {
     "data": {
      "text/plain": [
       "Text(0.5, 0.98, 'Starting in Florida Keys')"
      ]
     },
     "execution_count": 33,
     "metadata": {},
     "output_type": "execute_result"
    },
    {
     "data": {
      "image/png": "[encoded data removed]",
      "text/plain": [
       "<Figure size 640x480 with 1 Axes>"
      ]
     },
     "metadata": {},
     "output_type": "display_data"
    }
   ],
   "source": [
    "# Plot\n",
    "fig, ax = plt.subplots()\n",
    "ax.scatter(fl_df['log10_area_km'], fl_df['log10_species_count'], color='tab:orange')\n",
    "ax.scatter(fl_df['log10_island_area_km'], fl_df['log10_species_count'], color='tab:blue')\n",
    "ax.set_xlabel(\"log10 Area (km^2)\")\n",
    "ax.set_ylabel(\"log10 Species Count\")\n",
    "ax.set_ylim(0, 3)\n",
    "ax.set_xlim(-2, 7)\n",
    "# ax.plot(mo_x, mo_y)\n",
    "# ax.text(1, 1, f\"{slope:.2f}\")\n",
    "fig.suptitle(\"Starting in Florida Keys\")"
   ]
  },
  {
   "cell_type": "markdown",
   "id": "e44a8977-3cf9-4ec1-bf59-2836a7dbc61d",
   "metadata": {},
   "source": [
    "### Louisiana Delta"
   ]
  },
  {
   "cell_type": "code",
   "execution_count": 34,
   "id": "5c764e49-5f3c-40ac-9ac2-9098829f9ae1",
   "metadata": {},
   "outputs": [
    {
     "data": {
      "application/vnd.jupyter.widget-view+json": {
       "model_id": "5d83dc925b3b4452b1da8a801702852d",
       "version_major": 2,
       "version_minor": 0
      },
      "text/plain": [
       "FloatProgress(value=0.0, layout=Layout(width='auto'), style=ProgressStyle(bar_color='black'))"
      ]
     },
     "metadata": {},
     "output_type": "display_data"
    },
    {
     "name": "stdout",
     "output_type": "stream",
     "text": [
      "===========\n",
      "calc total area in km2 1118167.2993485336\n"
     ]
    },
    {
     "name": "stderr",
     "output_type": "stream",
     "text": [
      "Warning 1: Value 20154740.0899999999 of field area of feature 0 not successfully written. Possibly due to too larger number with respect to field width\n"
     ]
    },
    {
     "name": "stdout",
     "output_type": "stream",
     "text": [
      "===========\n",
      "calc total area in km2 3.785330597517967\n"
     ]
    },
    {
     "name": "stderr",
     "output_type": "stream",
     "text": [
      "Warning 1: Value 20154740.0899999999 of field area of feature 0 not successfully written. Possibly due to too larger number with respect to field width\n"
     ]
    },
    {
     "name": "stdout",
     "output_type": "stream",
     "text": [
      "===========\n",
      "calc total area in km2 46.669715696178436\n"
     ]
    },
    {
     "name": "stderr",
     "output_type": "stream",
     "text": [
      "Warning 1: Value 20154740.0899999999 of field area of feature 0 not successfully written. Possibly due to too larger number with respect to field width\n"
     ]
    },
    {
     "name": "stdout",
     "output_type": "stream",
     "text": [
      "===========\n",
      "calc total area in km2 86833.91276821558\n"
     ]
    },
    {
     "name": "stderr",
     "output_type": "stream",
     "text": [
      "Warning 1: Value 20154740.0899999999 of field area of feature 0 not successfully written. Possibly due to too larger number with respect to field width\n"
     ]
    },
    {
     "name": "stdout",
     "output_type": "stream",
     "text": [
      "===========\n",
      "calc total area in km2 7119.217141901917\n"
     ]
    },
    {
     "name": "stderr",
     "output_type": "stream",
     "text": [
      "Warning 1: Value 20154740.0899999999 of field area of feature 0 not successfully written. Possibly due to too larger number with respect to field width\n"
     ]
    },
    {
     "name": "stdout",
     "output_type": "stream",
     "text": [
      "===========\n",
      "calc total area in km2 575.1251483865967\n"
     ]
    },
    {
     "name": "stderr",
     "output_type": "stream",
     "text": [
      "Warning 1: Value 20154740.0899999999 of field area of feature 0 not successfully written. Possibly due to too larger number with respect to field width\n"
     ]
    },
    {
     "data": {
      "text/html": [
       "<div>\n",
       "<style scoped>\n",
       "    .dataframe tbody tr th:only-of-type {\n",
       "        vertical-align: middle;\n",
       "    }\n",
       "\n",
       "    .dataframe tbody tr th {\n",
       "        vertical-align: top;\n",
       "    }\n",
       "\n",
       "    .dataframe thead th {\n",
       "        text-align: right;\n",
       "    }\n",
       "</style>\n",
       "<table border=\"1\" class=\"dataframe\">\n",
       "  <thead>\n",
       "    <tr style=\"text-align: right;\">\n",
       "      <th></th>\n",
       "      <th>min_lat</th>\n",
       "      <th>max_lat</th>\n",
       "      <th>min_long</th>\n",
       "      <th>max_long</th>\n",
       "      <th>species_count</th>\n",
       "      <th>shapely_box</th>\n",
       "      <th>area_km</th>\n",
       "      <th>coord_tuple</th>\n",
       "      <th>island_area_km</th>\n",
       "      <th>log10_area_km</th>\n",
       "      <th>log10_species_count</th>\n",
       "      <th>log10_island_area_km</th>\n",
       "    </tr>\n",
       "  </thead>\n",
       "  <tbody>\n",
       "    <tr>\n",
       "      <th>0</th>\n",
       "      <td>20.000000</td>\n",
       "      <td>30.000000</td>\n",
       "      <td>-100.000000</td>\n",
       "      <td>-90.000000</td>\n",
       "      <td>809</td>\n",
       "      <td>POLYGON ((-100 30, -100 20, -90 20, -90 30, -1...</td>\n",
       "      <td>1.118167e+06</td>\n",
       "      <td>(-90.0, 30.0, -100.0, 20.0)</td>\n",
       "      <td>349536.825444</td>\n",
       "      <td>6.048507</td>\n",
       "      <td>2.907949</td>\n",
       "      <td>5.543493</td>\n",
       "    </tr>\n",
       "    <tr>\n",
       "      <th>1</th>\n",
       "      <td>29.175337</td>\n",
       "      <td>29.194075</td>\n",
       "      <td>-90.093142</td>\n",
       "      <td>-90.074404</td>\n",
       "      <td>40</td>\n",
       "      <td>POLYGON ((-90.09314169112731 29.1940754481648,...</td>\n",
       "      <td>3.785331e+00</td>\n",
       "      <td>(-90.07440351689873, 29.1940754481648, -90.093...</td>\n",
       "      <td>3.785331</td>\n",
       "      <td>0.578104</td>\n",
       "      <td>1.602060</td>\n",
       "      <td>0.578104</td>\n",
       "    </tr>\n",
       "    <tr>\n",
       "      <th>2</th>\n",
       "      <td>29.146442</td>\n",
       "      <td>29.212235</td>\n",
       "      <td>-90.136852</td>\n",
       "      <td>-90.071058</td>\n",
       "      <td>166</td>\n",
       "      <td>POLYGON ((-90.13685177808684 29.21223517479602...</td>\n",
       "      <td>4.666972e+01</td>\n",
       "      <td>(-90.07105845562108, 29.212235174796028, -90.1...</td>\n",
       "      <td>40.611586</td>\n",
       "      <td>1.669035</td>\n",
       "      <td>2.220108</td>\n",
       "      <td>1.608650</td>\n",
       "    </tr>\n",
       "    <tr>\n",
       "      <th>3</th>\n",
       "      <td>28.480359</td>\n",
       "      <td>31.328395</td>\n",
       "      <td>-91.137148</td>\n",
       "      <td>-88.289112</td>\n",
       "      <td>516</td>\n",
       "      <td>POLYGON ((-91.13714778994566 31.32839455279382...</td>\n",
       "      <td>8.683391e+04</td>\n",
       "      <td>(-88.28911192150986, 31.32839455279382, -91.13...</td>\n",
       "      <td>47814.059233</td>\n",
       "      <td>4.938689</td>\n",
       "      <td>2.712650</td>\n",
       "      <td>4.679556</td>\n",
       "    </tr>\n",
       "    <tr>\n",
       "      <th>4</th>\n",
       "      <td>28.389579</td>\n",
       "      <td>29.200710</td>\n",
       "      <td>-90.846653</td>\n",
       "      <td>-90.035522</td>\n",
       "      <td>229</td>\n",
       "      <td>POLYGON ((-90.84665304844498 29.20070990842874...</td>\n",
       "      <td>7.119217e+03</td>\n",
       "      <td>(-90.03552221765528, 29.200709908428745, -90.8...</td>\n",
       "      <td>425.178665</td>\n",
       "      <td>3.852432</td>\n",
       "      <td>2.359835</td>\n",
       "      <td>2.628571</td>\n",
       "    </tr>\n",
       "    <tr>\n",
       "      <th>5</th>\n",
       "      <td>29.107634</td>\n",
       "      <td>29.338647</td>\n",
       "      <td>-90.095058</td>\n",
       "      <td>-89.864045</td>\n",
       "      <td>303</td>\n",
       "      <td>POLYGON ((-90.09505830324323 29.33864719105613...</td>\n",
       "      <td>5.751251e+02</td>\n",
       "      <td>(-89.86404533323494, 29.338647191056136, -90.0...</td>\n",
       "      <td>93.399555</td>\n",
       "      <td>2.759762</td>\n",
       "      <td>2.481443</td>\n",
       "      <td>1.970345</td>\n",
       "    </tr>\n",
       "  </tbody>\n",
       "</table>\n",
       "</div>"
      ],
      "text/plain": [
       "     min_lat    max_lat    min_long   max_long  species_count  \\\n",
       "0  20.000000  30.000000 -100.000000 -90.000000            809   \n",
       "1  29.175337  29.194075  -90.093142 -90.074404             40   \n",
       "2  29.146442  29.212235  -90.136852 -90.071058            166   \n",
       "3  28.480359  31.328395  -91.137148 -88.289112            516   \n",
       "4  28.389579  29.200710  -90.846653 -90.035522            229   \n",
       "5  29.107634  29.338647  -90.095058 -89.864045            303   \n",
       "\n",
       "                                         shapely_box       area_km  \\\n",
       "0  POLYGON ((-100 30, -100 20, -90 20, -90 30, -1...  1.118167e+06   \n",
       "1  POLYGON ((-90.09314169112731 29.1940754481648,...  3.785331e+00   \n",
       "2  POLYGON ((-90.13685177808684 29.21223517479602...  4.666972e+01   \n",
       "3  POLYGON ((-91.13714778994566 31.32839455279382...  8.683391e+04   \n",
       "4  POLYGON ((-90.84665304844498 29.20070990842874...  7.119217e+03   \n",
       "5  POLYGON ((-90.09505830324323 29.33864719105613...  5.751251e+02   \n",
       "\n",
       "                                         coord_tuple  island_area_km  \\\n",
       "0                        (-90.0, 30.0, -100.0, 20.0)   349536.825444   \n",
       "1  (-90.07440351689873, 29.1940754481648, -90.093...        3.785331   \n",
       "2  (-90.07105845562108, 29.212235174796028, -90.1...       40.611586   \n",
       "3  (-88.28911192150986, 31.32839455279382, -91.13...    47814.059233   \n",
       "4  (-90.03552221765528, 29.200709908428745, -90.8...      425.178665   \n",
       "5  (-89.86404533323494, 29.338647191056136, -90.0...       93.399555   \n",
       "\n",
       "   log10_area_km  log10_species_count  log10_island_area_km  \n",
       "0       6.048507             2.907949              5.543493  \n",
       "1       0.578104             1.602060              0.578104  \n",
       "2       1.669035             2.220108              1.608650  \n",
       "3       4.938689             2.712650              4.679556  \n",
       "4       3.852432             2.359835              2.628571  \n",
       "5       2.759762             2.481443              1.970345  "
      ]
     },
     "execution_count": 34,
     "metadata": {},
     "output_type": "execute_result"
    }
   ],
   "source": [
    "# Run query and convert to dataframe\n",
    "input_lat = 29.1937866\n",
    "input_long = -90.0813856\n",
    "windows = get_lat_long_windows(input_lat, input_long)\n",
    "big_select = multiwindow_species_count_select(windows)\n",
    "la_df = duckdb.sql(big_select).df()\n",
    "la_df.sort_values(by=\"min_lat\")\n",
    "\n",
    "# Add necessary columns\n",
    "la_df = df_with_area(la_df)\n",
    "la_df = df_with_island_area(la_df)\n",
    "la_df = df_with_log10(la_df)\n",
    "la_df['log10_island_area_km'] = np.log10(la_df['island_area_km'])\n",
    "la_df"
   ]
  },
  {
   "cell_type": "code",
   "execution_count": 35,
   "id": "b12c253b-f209-4adc-b763-ddd445b66f9b",
   "metadata": {},
   "outputs": [
    {
     "data": {
      "text/plain": [
       "Text(0.5, 0.98, 'Starting in Louisiana Delta')"
      ]
     },
     "execution_count": 35,
     "metadata": {},
     "output_type": "execute_result"
    },
    {
     "data": {
      "image/png": "[encoded data removed]",
      "text/plain": [
       "<Figure size 640x480 with 1 Axes>"
      ]
     },
     "metadata": {},
     "output_type": "display_data"
    }
   ],
   "source": [
    "# Plot\n",
    "fig, ax = plt.subplots()\n",
    "ax.scatter(la_df['log10_area_km'], la_df['log10_species_count'], color='tab:orange')\n",
    "ax.scatter(la_df['log10_island_area_km'], la_df['log10_species_count'], color='tab:blue')\n",
    "ax.set_xlabel(\"log10 Area (km^2)\")\n",
    "ax.set_ylabel(\"log10 Species Count\")\n",
    "ax.set_ylim(0, 3)\n",
    "ax.set_xlim(-2, 7)\n",
    "# ax.plot(mo_x, mo_y)\n",
    "# ax.text(1, 1, f\"{slope:.2f}\")\n",
    "fig.suptitle(\"Starting in Louisiana Delta\")"
   ]
  },
  {
   "cell_type": "markdown",
   "id": "4ce7f789-2a8c-4aa7-91d8-e6c58c4cf195",
   "metadata": {},
   "source": [
    "### All Islands Grouped"
   ]
  },
  {
   "cell_type": "code",
   "execution_count": 36,
   "id": "960c4932-da30-4f0d-8242-7fc6352a1f1e",
   "metadata": {},
   "outputs": [
    {
     "name": "stdout",
     "output_type": "stream",
     "text": [
      "                  Results: Ordinary least squares\n",
      "====================================================================\n",
      "Model:              OLS                 Adj. R-squared:     0.485   \n",
      "Dependent Variable: log10_species_count AIC:                8.8897  \n",
      "Date:               2023-12-13 11:31    BIC:                10.8812 \n",
      "No. Observations:   20                  Log-Likelihood:     -2.4449 \n",
      "Df Model:           1                   F-statistic:        18.91   \n",
      "Df Residuals:       18                  Prob (F-statistic): 0.000387\n",
      "R-squared:          0.512               Scale:              0.083073\n",
      "----------------------------------------------------------------------\n",
      "                Coef.    Std.Err.      t      P>|t|    [0.025   0.975]\n",
      "----------------------------------------------------------------------\n",
      "const           1.6774     0.1498   11.1961   0.0000   1.3626   1.9922\n",
      "log10_area_km   0.1601     0.0368    4.3490   0.0004   0.0828   0.2374\n",
      "--------------------------------------------------------------------\n",
      "Omnibus:                4.140         Durbin-Watson:           2.015\n",
      "Prob(Omnibus):          0.126         Jarque-Bera (JB):        1.822\n",
      "Skew:                   -0.399        Prob(JB):                0.402\n",
      "Kurtosis:               1.755         Condition No.:           10   \n",
      "====================================================================\n",
      "Notes:\n",
      "[1] Standard Errors assume that the covariance matrix of the errors\n",
      "is correctly specified.\n"
     ]
    }
   ],
   "source": [
    "new_island_df = pd.concat([ak_df, hi_df, fl_df, la_df])\n",
    "total_x, total_y, slope = best_fit_line(new_island_df)"
   ]
  },
  {
   "cell_type": "code",
   "execution_count": 41,
   "id": "d488fb03-ea6d-4184-80a6-58a421c87460",
   "metadata": {},
   "outputs": [
    {
     "data": {
      "text/plain": [
       "Text(0.5, 0.98, 'Islands: Species Count vs. Area')"
      ]
     },
     "execution_count": 41,
     "metadata": {},
     "output_type": "execute_result"
    },
    {
     "data": {
      "image/png": "[encoded data removed]",
      "text/plain": [
       "<Figure size 640x480 with 1 Axes>"
      ]
     },
     "metadata": {},
     "output_type": "display_data"
    }
   ],
   "source": [
    "# Plot\n",
    "fig, ax = plt.subplots()\n",
    "ax.scatter(ak_df['log10_island_area_km'], ak_df['log10_species_count'], label=\"Alaskan Islands\")\n",
    "ax.scatter(hi_df['log10_island_area_km'], hi_df['log10_species_count'], label=\"Hawaiian Islands\")\n",
    "ax.scatter(fl_df['log10_island_area_km'], fl_df['log10_species_count'], label=\"Florida Keys\")\n",
    "ax.scatter(la_df['log10_island_area_km'], la_df['log10_species_count'], label=\"Louisiana Delta\")\n",
    "ax.set_xlabel(\"log10 Area (km^2)\")\n",
    "ax.set_ylabel(\"log10 Species Count\")\n",
    "ax.set_ylim(0, 3)\n",
    "ax.set_xlim(-2, 7)\n",
    "ax.plot(total_x, total_y, color='black', label=f\"{slope:.2f}\")\n",
    "# fig.legend(loc='center right')\n",
    "fig.legend(bbox_to_anchor=(0.8, 0.4))\n",
    "fig.suptitle(\"Islands: Species Count vs. Area\")"
   ]
  }
 ],
 "metadata": {
  "kernelspec": {
   "display_name": "Python 3 (ipykernel)",
   "language": "python",
   "name": "python3"
  },
  "language_info": {
   "codemirror_mode": {
    "name": "ipython",
    "version": 3
   },
   "file_extension": ".py",
   "mimetype": "text/x-python",
   "name": "python",
   "nbconvert_exporter": "python",
   "pygments_lexer": "ipython3",
   "version": "3.9.6"
  }
 },
 "nbformat": 4,
 "nbformat_minor": 5
}
